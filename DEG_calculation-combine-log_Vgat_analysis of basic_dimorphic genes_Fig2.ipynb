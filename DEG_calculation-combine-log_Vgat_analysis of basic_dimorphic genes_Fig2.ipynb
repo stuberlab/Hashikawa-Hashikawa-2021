{
 "cells": [
  {
   "cell_type": "code",
   "execution_count": 40,
   "metadata": {},
   "outputs": [
    {
     "data": {
      "text/html": [
       "<style> .container { width:95% !important; } </style>"
      ]
     },
     "metadata": {},
     "output_type": "display_data"
    }
   ],
   "source": [
    "library(Seurat)\n",
    "library(dplyr)\n",
    "library(magrittr)\n",
    "IRdisplay::display_html(\"<style> .container { width:95% !important; } </style>\")\n",
    "library(\"xlsx\")\n",
    "#library(mgsa)\n",
    "library(ggplot2)"
   ]
  },
  {
   "cell_type": "code",
   "execution_count": 41,
   "metadata": {},
   "outputs": [],
   "source": [
    "#MPOA_test<-readRDS(file = \"/media/garret/New Volume/scRNAseq_data/Koichi/V3_analysis/MPOA/MPOA_integrated/log/Neurons/MPOA_test.rds\")\n",
    "MPOA.integrated<-readRDS(file = \"/media/garret/New Volume/scRNAseq_data/Koichi/V3_analysis/MPOA/MPOA_integrated/log/Neurons/MPOA.integrated.rds\")\n",
    "P23M<-readRDS(file =\"/media/garret/New Volume/scRNAseq_data/Koichi/V3_analysis/MPOA/MPOA_integrated/log/Neurons/P23M.rds\")\n",
    "P35M<-readRDS(file = \"/media/garret/New Volume/scRNAseq_data/Koichi/V3_analysis/MPOA/MPOA_integrated/log/Neurons/P35M.rds\")\n",
    "AM<-readRDS(file = \"/media/garret/New Volume/scRNAseq_data/Koichi/V3_analysis/MPOA/MPOA_integrated/log/Neurons/AM.rds\")\n",
    "Cast<-readRDS(file = \"/media/garret/New Volume/scRNAseq_data/Koichi/V3_analysis/MPOA/MPOA_integrated/log/Neurons/Cast.rds\")\n",
    "P23F<-readRDS(file = \"/media/garret/New Volume/scRNAseq_data/Koichi/V3_analysis/MPOA/MPOA_integrated/log/Neurons/P23F.rds\")\n",
    "P35F<-readRDS(file = \"/media/garret/New Volume/scRNAseq_data/Koichi/V3_analysis/MPOA/MPOA_integrated/log/Neurons/P35F.rds\")\n",
    "AF<-readRDS(file = \"/media/garret/New Volume/scRNAseq_data/Koichi/V3_analysis/MPOA/MPOA_integrated/log/Neurons/AF.rds\")\n",
    "OVX<-readRDS(file = \"/media/garret/New Volume/scRNAseq_data/Koichi/V3_analysis/MPOA/MPOA_integrated/log/Neurons/OVX.rds\")"
   ]
  },
  {
   "cell_type": "markdown",
   "metadata": {},
   "source": [
    "# assgin clusters to cell types"
   ]
  },
  {
   "cell_type": "code",
   "execution_count": 42,
   "metadata": {},
   "outputs": [],
   "source": [
    "new.ident <- c(\"Mix1\",\"Vgat1\",\"Vglu1\",\"Vgat2\",\"Vgat3\",\"Vgat4\",\"Mix2\",\"Vglu2\",\"Vgat5\",\"Vglu3\",\"Vglu4\",\"Vgat6\",\"Vgat7\",\"Vgat8\",\"Vglu5\",\"Vglu6\",\"Vgat9\",\"Vgat10\",\"Vgat11\",\"Vglu7\",\"Vgat12\",\"Vgat13\",\"Vgat14\",\"Vgat15\",\"Vglu8\",\"Vglu9\",\"Vgat16\",\"Vglu10\",\"Vgat17\",\"Vgat18\",\"Vgat19\",\"Vglu11\",\"Vglu12\",\"Ambiguous1\",\"Mix3\",\"Vgat20\")\n",
    "names(x = new.ident) <- levels(x =MPOA.integrated)\n",
    "MPOA.integrated<- RenameIdents(object =MPOA.integrated, new.ident)"
   ]
  },
  {
   "cell_type": "markdown",
   "metadata": {},
   "source": [
    "# Cell type analysis in each condition"
   ]
  },
  {
   "cell_type": "code",
   "execution_count": 43,
   "metadata": {},
   "outputs": [],
   "source": [
    "#identifying cluster barcodes in each condition\n",
    "# exp. Oligo_1_barcode_ctrl gives all barcodes in it\n",
    "for (i in 1:length(new.ident)){\n",
    "assign(paste(new.ident[i],\"_barcode\",sep=\"\"),colnames(MPOA.integrated@assays$RNA@data[,which(Idents(object=MPOA.integrated) %in% new.ident[i])]))# this gives all barcodes in cluster\n",
    "assign(paste(new.ident[i],\"_barcode_P23M\",sep=\"\"),intersect(colnames(P23M@assays$RNA@data),eval(parse(text = paste(new.ident[i],\"_barcode\",sep=\"\")))))\n",
    "assign(paste(new.ident[i],\"_barcode_P35M\",sep=\"\"),intersect(colnames(P35M@assays$RNA@data),eval(parse(text = paste(new.ident[i],\"_barcode\",sep=\"\")))))\n",
    "assign(paste(new.ident[i],\"_barcode_AM\",sep=\"\"),intersect(colnames(AM@assays$RNA@data),eval(parse(text = paste(new.ident[i],\"_barcode\",sep=\"\")))))\n",
    "assign(paste(new.ident[i],\"_barcode_Cast\",sep=\"\"),intersect(colnames(Cast@assays$RNA@data),eval(parse(text = paste(new.ident[i],\"_barcode\",sep=\"\")))))\n",
    "assign(paste(new.ident[i],\"_barcode_P23F\",sep=\"\"),intersect(colnames(P23F@assays$RNA@data),eval(parse(text = paste(new.ident[i],\"_barcode\",sep=\"\")))))\n",
    "assign(paste(new.ident[i],\"_barcode_P35F\",sep=\"\"),intersect(colnames(P35F@assays$RNA@data),eval(parse(text = paste(new.ident[i],\"_barcode\",sep=\"\")))))\n",
    "assign(paste(new.ident[i],\"_barcode_AF\",sep=\"\"),intersect(colnames(AF@assays$RNA@data),eval(parse(text = paste(new.ident[i],\"_barcode\",sep=\"\")))))\n",
    "assign(paste(new.ident[i],\"_barcode_OVX\",sep=\"\"),intersect(colnames(OVX@assays$RNA@data),eval(parse(text = paste(new.ident[i],\"_barcode\",sep=\"\")))))\n",
    "}"
   ]
  },
  {
   "cell_type": "markdown",
   "metadata": {},
   "source": [
    "# DEG between condition on merged clusters \n"
   ]
  },
  {
   "cell_type": "code",
   "execution_count": 44,
   "metadata": {},
   "outputs": [],
   "source": [
    "DefaultAssay(MPOA.integrated) <- \"RNA\""
   ]
  },
  {
   "cell_type": "code",
   "execution_count": 45,
   "metadata": {},
   "outputs": [],
   "source": [
    "celltype.stim<-vector()\n",
    "for (i in 1:dim(MPOA.integrated@meta.data)[1]){\n",
    "    if(MPOA.integrated@meta.data$stim[i]==\"AM\"){celltype.stim[i]<-\"AM\"}\n",
    "    else if(MPOA.integrated@meta.data$stim[i]==\"Cast\"){celltype.stim[i]<-\"Cast\"}\n",
    "        else if(MPOA.integrated@meta.data$stim[i]==\"P23M\"){celltype.stim[i]<-\"P23M\"}\n",
    "             else if(MPOA.integrated@meta.data$stim[i]==\"P35M\"){celltype.stim[i]<-\"P35M\"}\n",
    "         else if(MPOA.integrated@meta.data$stim[i]==\"AF\"){celltype.stim[i]<-\"AF\"}\n",
    "              else if(MPOA.integrated@meta.data$stim[i]==\"OVX\"){celltype.stim[i]<-\"OVX\"}\n",
    "                   else if(MPOA.integrated@meta.data$stim[i]==\"P23F\"){celltype.stim[i]<-\"P23F\"}\n",
    "                       else if(MPOA.integrated@meta.data$stim[i]==\"P35F\"){celltype.stim[i]<-\"P35F\"}\n",
    "        else {celltype.stim[i] <-\"others\"}\n",
    "}\n",
    "MPOA.integrated@meta.data$celltype.stim<-celltype.stim"
   ]
  },
  {
   "cell_type": "code",
   "execution_count": 46,
   "metadata": {},
   "outputs": [],
   "source": [
    "\n",
    "MPOA.integrated[[\"celltype\"]] <- Idents(object = MPOA.integrated)\n",
    "Idents(MPOA.integrated = MPOA.integrated) <- MPOA.integrated@meta.data$celltype.stim\n"
   ]
  },
  {
   "cell_type": "code",
   "execution_count": 47,
   "metadata": {},
   "outputs": [],
   "source": [
    "Cell_type<-c(\"Vgat1\",\"Vgat2\",\"Vgat3\",\"Vgat4\",\"Vgat5\",\"Vgat6\",\"Vgat7\",\"Vgat8\",\"Vgat9\",\"Vgat10\",\"Vgat11\",\"Vgat12\",\"Vgat13\",\"Vgat14\",\"Vgat15\",\"Vgat16\",\"Vgat17\",\"Vgat18\",\"Vgat19\",\"Vgat20\")\n",
    "temp<-numeric()\n",
    "for(i in 1:length(Cell_type)){\n",
    "    temp<-c(temp,eval(parse(text=paste(Cell_type[i],\"_barcode\",sep=\"\"))))\n",
    "}"
   ]
  },
  {
   "cell_type": "code",
   "execution_count": 48,
   "metadata": {},
   "outputs": [],
   "source": [
    "Cell_type<-c(\"Vglu1\",\"Vglu2\",\"Vglu3\",\"Vglu4\",\"Vglu5\",\"Vglu6\",\"Vglu7\",\"Vglu8\",\"Vglu9\",\"Vglu10\",\"Vglu11\",\"Vglu12\")\n",
    "\n",
    "temp<-numeric()\n",
    "for(i in 1:length(Cell_type)){\n",
    "    temp<-c(temp,eval(parse(text=paste(Cell_type[i],\"_barcode\",sep=\"\"))))\n",
    "}"
   ]
  },
  {
   "cell_type": "code",
   "execution_count": 34,
   "metadata": {},
   "outputs": [
    {
     "data": {
      "text/html": [
       "13334"
      ],
      "text/latex": [
       "13334"
      ],
      "text/markdown": [
       "13334"
      ],
      "text/plain": [
       "[1] 13334"
      ]
     },
     "metadata": {},
     "output_type": "display_data"
    }
   ],
   "source": [
    "length(temp)"
   ]
  },
  {
   "cell_type": "code",
   "execution_count": 22,
   "metadata": {},
   "outputs": [],
   "source": [
    "# Esr1 M vgat 6 is boarder line\n",
    "temp<-c(Vgat2_barcode,Vgat4_barcode,Vgat16_barcode)\n",
    "celltype<-intersect(temp,rownames(subset(MPOA.integrated@meta.data,stim==\"AM\" | stim==\"P35M\" | stim==\"P23M\" |stim==\"AF\"| stim==\"P35F\"| stim==\"P23F\"| stim==\"Cast\"| stim==\"OVX\")))"
   ]
  },
  {
   "cell_type": "code",
   "execution_count": 49,
   "metadata": {},
   "outputs": [],
   "source": [
    "#Vglu Esr1\n",
    "temp<-c(Vglu4_barcode,Vglu5_barcode)\n",
    "celltype<-intersect(temp,rownames(subset(MPOA.integrated@meta.data,stim==\"AM\" | stim==\"P35M\" | stim==\"P23M\" |stim==\"AF\"| stim==\"P35F\"| stim==\"P23F\"| stim==\"Cast\"| stim==\"OVX\")))"
   ]
  },
  {
   "cell_type": "code",
   "execution_count": 8,
   "metadata": {},
   "outputs": [],
   "source": [
    "#201119 Ar \n",
    "temp<-c(Vgat5_barcode,Vgat8_barcode,Vgat13_barcode)\n",
    "celltype<-intersect(temp,rownames(subset(MPOA.integrated@meta.data,stim==\"AM\" | stim==\"P35M\" | stim==\"P23M\" |stim==\"AF\"| stim==\"P35F\"| stim==\"P23F\"| stim==\"Cast\"| stim==\"OVX\")))"
   ]
  },
  {
   "cell_type": "code",
   "execution_count": 50,
   "metadata": {},
   "outputs": [],
   "source": [
    "MPOA_Esr1.integrated<-subset(MPOA.integrated,cells=celltype)"
   ]
  },
  {
   "cell_type": "code",
   "execution_count": 9,
   "metadata": {},
   "outputs": [],
   "source": [
    "MPOA_Ar.integrated<-subset(MPOA.integrated,cells=celltype)"
   ]
  },
  {
   "cell_type": "code",
   "execution_count": 35,
   "metadata": {},
   "outputs": [],
   "source": [
    "celltype<-intersect(temp,rownames(subset(MPOA.integrated@meta.data,stim==\"AM\" | stim==\"P35M\" | stim==\"P23M\" |stim==\"AF\"| stim==\"P35F\"| stim==\"P23F\"| stim==\"Cast\"| stim==\"OVX\")))\n",
    "MPOA_Vgat.integrated<-subset(MPOA.integrated,cells=celltype)"
   ]
  },
  {
   "cell_type": "code",
   "execution_count": 71,
   "metadata": {},
   "outputs": [],
   "source": [
    "MPOA_hormone.integrated<-subset(MPOA.integrated,cells=celltype)"
   ]
  },
  {
   "cell_type": "markdown",
   "metadata": {},
   "source": [
    "# DEG calculation (Esr1 Vgat)"
   ]
  },
  {
   "cell_type": "code",
   "execution_count": 47,
   "metadata": {
    "scrolled": true
   },
   "outputs": [],
   "source": [
    "# be careful with the min percentage. for small cluster like Esr1, I used 0.2. for others used 0.1. you could use 0.1 for Esr1 aggregate clusters to see the potential differnces it culd make"
   ]
  },
  {
   "cell_type": "code",
   "execution_count": 10,
   "metadata": {},
   "outputs": [],
   "source": [
    "help(FindMarkers)"
   ]
  },
  {
   "cell_type": "code",
   "execution_count": 56,
   "metadata": {},
   "outputs": [],
   "source": [
    "#HB correcton\n",
    "\n",
    "one.markers <- FindMarkers(MPOA_Esr1.integrated, ident.1 = \"Cast\", ident.2 =\"AM\", grouping.var = \"stim\",print.bar = FALSE,logfc.threshold = 0,min.pct = 0,min.cells.gene = 3, min.cells.group = 1)\n",
    "\n",
    "one.markers$p_val_adjust<-one.markers$p_val*(dim(one.markers)[1]:1)\n",
    "sort_marker<-one.markers[order(-one.markers[\"avg_logFC\"]),]\n",
    "write.xlsx2(subset(sort_marker,avg_logFC>0 & p_val_adjust<0.05 & pct.1>0.1),file=(\"/media/garret/New Volume/scRNAseq_data/Koichi/V3_analysis/MPOA/MPOA_integrated/log/Neurons/DEG/Vglu_Esr1/Cast_over_AM/gene_adjust_0.1.xlsx\"))\n",
    "#write.xlsx2(subset(sort_marker,avg_logFC<0 & p_val_adjust<0.05 & pct.2>0.1),file=(\"/media/garret/New Volume/scRNAseq_data/Koichi/V3_analysis/MPOA/MPOA_integrated/log/Neurons/DEG/Esr1_3/AM_over_AF/gene_adjust_Vgat_0.1n.xlsx\"))\n",
    "#write.xlsx2(sort_marker,file=(\"/media/garret/New Volume/scRNAseq_data/Koichi/V3_analysis/MPOA/MPOA_integrated/log/Neurons/DEG/Vglu_Esr1/AM_over_Cast/All_gene.xlsx\"))\n"
   ]
  },
  {
   "cell_type": "code",
   "execution_count": 62,
   "metadata": {},
   "outputs": [],
   "source": [
    "#HB correcton\n",
    "\n",
    "one.markers <- FindMarkers(MPOA_Esr1.integrated, ident.1 = \"OVX\", ident.2 =\"AF\", grouping.var = \"stim\",print.bar = FALSE,logfc.threshold = 0,min.pct = 0,min.cells.gene = 3, min.cells.group = 1)\n",
    "\n",
    "one.markers$p_val_adjust<-one.markers$p_val*(dim(one.markers)[1]:1)\n",
    "sort_marker<-one.markers[order(-one.markers[\"avg_logFC\"]),]\n",
    "write.xlsx2(subset(sort_marker,avg_logFC>0 & p_val_adjust<0.05 & pct.1>0.1),file=(\"/media/garret/New Volume/scRNAseq_data/Koichi/V3_analysis/MPOA/MPOA_integrated/log/Neurons/DEG/Vglu_Esr1/OVX_over_AF/gene_adjust_0.1.xlsx\"))\n",
    "#write.xlsx2(subset(sort_marker,avg_logFC<0 & p_val_adjust<0.05 & pct.2>0.1),file=(\"/media/garret/New Volume/scRNAseq_data/Koichi/V3_analysis/MPOA/MPOA_integrated/log/Neurons/DEG/Esr1_3/AM_over_AF/gene_adjust_Vgat_0.1n.xlsx\"))\n",
    "#write.xlsx2(sort_marker,file=(\"/media/garret/New Volume/scRNAseq_data/Koichi/V3_analysis/MPOA/MPOA_integrated/log/Neurons/DEG/Vglu_Esr1/AM_over_Cast/All_gene.xlsx\"))\n"
   ]
  },
  {
   "cell_type": "code",
   "execution_count": 11,
   "metadata": {},
   "outputs": [],
   "source": [
    "#HB correcton\n",
    "\n",
    "one.markers <- FindMarkers(MPOA_Esr1.integrated, ident.1 = \"AF\", ident.2 =\"AM\", grouping.var = \"stim\",print.bar = FALSE,logfc.threshold = 0,min.pct = 0,min.cells.gene = 3, min.cells.group = 1)\n",
    "\n",
    "one.markers$p_val_adjust<-one.markers$p_val*(dim(one.markers)[1]:1)\n",
    "sort_marker<-one.markers[order(-one.markers[\"avg_logFC\"]),]\n",
    "write.xlsx2(subset(sort_marker,avg_logFC>0 & p_val_adjust<0.05 & pct.1>0.1),file=(\"/media/garret/New Volume/scRNAseq_data/Koichi/V3_analysis/MPOA/MPOA_integrated/log/Neurons/DEG/Esr1_3/AF_over_AM/gene_adjust_Vgat_0.1.xlsx\"))\n",
    "write.xlsx2(subset(sort_marker,avg_logFC<0 & p_val_adjust<0.05 & pct.2>0.1),file=(\"/media/garret/New Volume/scRNAseq_data/Koichi/V3_analysis/MPOA/MPOA_integrated/log/Neurons/DEG/Esr1_3/AF_over_AM/gene_adjust_Vgat_0.1n.xlsx\"))\n"
   ]
  },
  {
   "cell_type": "code",
   "execution_count": 24,
   "metadata": {},
   "outputs": [],
   "source": [
    "#HB correcton\n",
    "\n",
    "one.markers <- FindMarkers(MPOA_Esr1.integrated, ident.1 = \"Cast\", ident.2 =\"OVX\", grouping.var = \"stim\",print.bar = FALSE,logfc.threshold = 0,min.pct = 0,min.cells.gene = 3, min.cells.group = 1)\n",
    "\n",
    "one.markers$p_val_adjust<-one.markers$p_val*(dim(one.markers)[1]:1)\n",
    "sort_marker<-one.markers[order(-one.markers[\"avg_logFC\"]),]\n",
    "#write.xlsx2(subset(sort_marker,avg_logFC>0 & p_val_adjust<0.05 & pct.1>0.1),file=(\"/media/garret/New Volume/scRNAseq_data/Koichi/V3_analysis/MPOA/MPOA_integrated/log/Neurons/DEG/Esr1_3/Cast_over_OVX/gene_adjust_Vgat_0.1.xlsx\"))\n",
    "#write.xlsx2(subset(sort_marker,avg_logFC<0 & p_val_adjust<0.05 & pct.2>0.1),file=(\"/media/garret/New Volume/scRNAseq_data/Koichi/V3_analysis/MPOA/MPOA_integrated/log/Neurons/DEG/Esr1_3/Cast_over_OVX/gene_adjust_Vgat_0.1n.xlsx\"))\n",
    "write.xlsx2(sort_marker,file=(\"/media/garret/New Volume/scRNAseq_data/Koichi/V3_analysis/MPOA/MPOA_integrated/log/Neurons/DEG/Esr1_3/Cast_over_OVX/All_gene.xlsx\"))"
   ]
  },
  {
   "cell_type": "code",
   "execution_count": 25,
   "metadata": {},
   "outputs": [],
   "source": [
    "#HB correcton\n",
    "\n",
    "one.markers <- FindMarkers(MPOA_Esr1.integrated, ident.1 = \"OVX\", ident.2 =\"Cast\", grouping.var = \"stim\",print.bar = FALSE,logfc.threshold = 0,min.pct = 0,min.cells.gene = 3, min.cells.group = 1)\n",
    "\n",
    "one.markers$p_val_adjust<-one.markers$p_val*(dim(one.markers)[1]:1)\n",
    "sort_marker<-one.markers[order(-one.markers[\"avg_logFC\"]),]\n",
    "#write.xlsx2(subset(sort_marker,avg_logFC>0 & p_val_adjust<0.05 & pct.1>0.1),file=(\"/media/garret/New Volume/scRNAseq_data/Koichi/V3_analysis/MPOA/MPOA_integrated/log/Neurons/DEG/Esr1_3/OVX_over_Cast/gene_adjust_Vgat_0.1.xlsx\"))\n",
    "#write.xlsx2(subset(sort_marker,avg_logFC<0 & p_val_adjust<0.05 & pct.2>0.1),file=(\"/media/garret/New Volume/scRNAseq_data/Koichi/V3_analysis/MPOA/MPOA_integrated/log/Neurons/DEG/Esr1_3/OVX_over_Cast/gene_adjust_Vgat_0.1n.xlsx\"))\n",
    "write.xlsx2(sort_marker,file=(\"/media/garret/New Volume/scRNAseq_data/Koichi/V3_analysis/MPOA/MPOA_integrated/log/Neurons/DEG/Esr1_3/OVX_over_Cast/All_gene.xlsx\"))"
   ]
  },
  {
   "cell_type": "markdown",
   "metadata": {},
   "source": [
    "# visualization of dimorphic and all other genes"
   ]
  },
  {
   "cell_type": "code",
   "execution_count": 4,
   "metadata": {},
   "outputs": [],
   "source": [
    "sort_marker<- read.xlsx(\"/media/garret/New Volume/scRNAseq_data/Koichi/V3_analysis/MPOA/MPOA_integrated/log/Neurons/DEG/Esr1_3/AM_over_AF/All_gene.xlsx\",sheetIndex=1)"
   ]
  },
  {
   "cell_type": "code",
   "execution_count": 5,
   "metadata": {},
   "outputs": [],
   "source": [
    "rank<-c(1:dim(sort_marker)[1])\n",
    "rank<-factor(rank,levels=rank) #probably you do not need this\n",
    "sort_marker$rank<-rank"
   ]
  },
  {
   "cell_type": "code",
   "execution_count": 6,
   "metadata": {},
   "outputs": [],
   "source": [
    "color<-numeric()\n",
    "for(i in 1:dim(sort_marker)[1]){\n",
    "    if(sort_marker$avg_logFC[i]>0 & sort_marker$p_val_adjust[i]<0.05){\n",
    "        color[i]<-\"darkblue\"\n",
    "    }else if(sort_marker$avg_logFC[i]<0 & sort_marker$p_val_adjust[i]<0.05){\n",
    "        color[i]<-\"salmon\"\n",
    "    }else{\n",
    "       color[i]<-\"black\" \n",
    "    }\n",
    "}"
   ]
  },
  {
   "cell_type": "code",
   "execution_count": 7,
   "metadata": {},
   "outputs": [],
   "source": [
    "sort_marker$color<-color"
   ]
  },
  {
   "cell_type": "code",
   "execution_count": 10,
   "metadata": {
    "collapsed": true
   },
   "outputs": [
    {
     "data": {
      "text/html": [
       "<table>\n",
       "<caption>A data.frame: 6 × 9</caption>\n",
       "<thead>\n",
       "\t<tr><th></th><th scope=col>NA.</th><th scope=col>p_val</th><th scope=col>avg_logFC</th><th scope=col>pct.1</th><th scope=col>pct.2</th><th scope=col>p_val_adj</th><th scope=col>p_val_adjust</th><th scope=col>rank</th><th scope=col>color</th></tr>\n",
       "\t<tr><th></th><th scope=col>&lt;fct&gt;</th><th scope=col>&lt;dbl&gt;</th><th scope=col>&lt;dbl&gt;</th><th scope=col>&lt;dbl&gt;</th><th scope=col>&lt;dbl&gt;</th><th scope=col>&lt;dbl&gt;</th><th scope=col>&lt;dbl&gt;</th><th scope=col>&lt;fct&gt;</th><th scope=col>&lt;chr&gt;</th></tr>\n",
       "</thead>\n",
       "<tbody>\n",
       "\t<tr><th scope=row>15976</th><td>Pcp4   </td><td>2.461578e-20</td><td>-0.5153354</td><td>0.991</td><td>1.000</td><td>5.008079e-16</td><td>3.932124e-16</td><td>15976</td><td>salmon</td></tr>\n",
       "\t<tr><th scope=row>15977</th><td>Rps27rt</td><td>5.738869e-29</td><td>-0.5383111</td><td>0.868</td><td>0.969</td><td>1.167573e-24</td><td>9.169564e-25</td><td>15977</td><td>salmon</td></tr>\n",
       "\t<tr><th scope=row>15978</th><td>Slc18a2</td><td>6.964374e-17</td><td>-0.5999570</td><td>0.166</td><td>0.518</td><td>1.416902e-12</td><td>1.112420e-12</td><td>15978</td><td>salmon</td></tr>\n",
       "\t<tr><th scope=row>15979</th><td>Esr1   </td><td>7.576594e-25</td><td>-0.6292090</td><td>0.664</td><td>0.887</td><td>1.541458e-20</td><td>1.210437e-20</td><td>15979</td><td>salmon</td></tr>\n",
       "\t<tr><th scope=row>15980</th><td>Fgfr1  </td><td>3.885375e-05</td><td>-0.6301926</td><td>0.638</td><td>0.693</td><td>7.904795e-01</td><td>6.119465e-01</td><td>15980</td><td>black </td></tr>\n",
       "\t<tr><th scope=row>15981</th><td>Xist   </td><td>1.393834e-90</td><td>-2.2884306</td><td>0.000</td><td>0.992</td><td>2.835755e-86</td><td>2.227486e-86</td><td>15981</td><td>salmon</td></tr>\n",
       "</tbody>\n",
       "</table>\n"
      ],
      "text/latex": [
       "A data.frame: 6 × 9\n",
       "\\begin{tabular}{r|lllllllll}\n",
       "  & NA. & p\\_val & avg\\_logFC & pct.1 & pct.2 & p\\_val\\_adj & p\\_val\\_adjust & rank & color\\\\\n",
       "  & <fct> & <dbl> & <dbl> & <dbl> & <dbl> & <dbl> & <dbl> & <fct> & <chr>\\\\\n",
       "\\hline\n",
       "\t15976 & Pcp4    & 2.461578e-20 & -0.5153354 & 0.991 & 1.000 & 5.008079e-16 & 3.932124e-16 & 15976 & salmon\\\\\n",
       "\t15977 & Rps27rt & 5.738869e-29 & -0.5383111 & 0.868 & 0.969 & 1.167573e-24 & 9.169564e-25 & 15977 & salmon\\\\\n",
       "\t15978 & Slc18a2 & 6.964374e-17 & -0.5999570 & 0.166 & 0.518 & 1.416902e-12 & 1.112420e-12 & 15978 & salmon\\\\\n",
       "\t15979 & Esr1    & 7.576594e-25 & -0.6292090 & 0.664 & 0.887 & 1.541458e-20 & 1.210437e-20 & 15979 & salmon\\\\\n",
       "\t15980 & Fgfr1   & 3.885375e-05 & -0.6301926 & 0.638 & 0.693 & 7.904795e-01 & 6.119465e-01 & 15980 & black \\\\\n",
       "\t15981 & Xist    & 1.393834e-90 & -2.2884306 & 0.000 & 0.992 & 2.835755e-86 & 2.227486e-86 & 15981 & salmon\\\\\n",
       "\\end{tabular}\n"
      ],
      "text/markdown": [
       "\n",
       "A data.frame: 6 × 9\n",
       "\n",
       "| <!--/--> | NA. &lt;fct&gt; | p_val &lt;dbl&gt; | avg_logFC &lt;dbl&gt; | pct.1 &lt;dbl&gt; | pct.2 &lt;dbl&gt; | p_val_adj &lt;dbl&gt; | p_val_adjust &lt;dbl&gt; | rank &lt;fct&gt; | color &lt;chr&gt; |\n",
       "|---|---|---|---|---|---|---|---|---|---|\n",
       "| 15976 | Pcp4    | 2.461578e-20 | -0.5153354 | 0.991 | 1.000 | 5.008079e-16 | 3.932124e-16 | 15976 | salmon |\n",
       "| 15977 | Rps27rt | 5.738869e-29 | -0.5383111 | 0.868 | 0.969 | 1.167573e-24 | 9.169564e-25 | 15977 | salmon |\n",
       "| 15978 | Slc18a2 | 6.964374e-17 | -0.5999570 | 0.166 | 0.518 | 1.416902e-12 | 1.112420e-12 | 15978 | salmon |\n",
       "| 15979 | Esr1    | 7.576594e-25 | -0.6292090 | 0.664 | 0.887 | 1.541458e-20 | 1.210437e-20 | 15979 | salmon |\n",
       "| 15980 | Fgfr1   | 3.885375e-05 | -0.6301926 | 0.638 | 0.693 | 7.904795e-01 | 6.119465e-01 | 15980 | black  |\n",
       "| 15981 | Xist    | 1.393834e-90 | -2.2884306 | 0.000 | 0.992 | 2.835755e-86 | 2.227486e-86 | 15981 | salmon |\n",
       "\n"
      ],
      "text/plain": [
       "      NA.     p_val        avg_logFC  pct.1 pct.2 p_val_adj    p_val_adjust\n",
       "15976 Pcp4    2.461578e-20 -0.5153354 0.991 1.000 5.008079e-16 3.932124e-16\n",
       "15977 Rps27rt 5.738869e-29 -0.5383111 0.868 0.969 1.167573e-24 9.169564e-25\n",
       "15978 Slc18a2 6.964374e-17 -0.5999570 0.166 0.518 1.416902e-12 1.112420e-12\n",
       "15979 Esr1    7.576594e-25 -0.6292090 0.664 0.887 1.541458e-20 1.210437e-20\n",
       "15980 Fgfr1   3.885375e-05 -0.6301926 0.638 0.693 7.904795e-01 6.119465e-01\n",
       "15981 Xist    1.393834e-90 -2.2884306 0.000 0.992 2.835755e-86 2.227486e-86\n",
       "      rank  color \n",
       "15976 15976 salmon\n",
       "15977 15977 salmon\n",
       "15978 15978 salmon\n",
       "15979 15979 salmon\n",
       "15980 15980 black \n",
       "15981 15981 salmon"
      ]
     },
     "metadata": {},
     "output_type": "display_data"
    }
   ],
   "source": [
    "tail(sort_marker)"
   ]
  },
  {
   "cell_type": "code",
   "execution_count": 13,
   "metadata": {
    "scrolled": true
   },
   "outputs": [
    {
     "data": {
      "image/png": "[encoded data removed]",
      "text/plain": [
       "plot without title"
      ]
     },
     "metadata": {
      "image/png": {
       "height": 420,
       "width": 420
      },
      "text/plain": {
       "height": 420,
       "width": 420
      }
     },
     "output_type": "display_data"
    }
   ],
   "source": [
    "ggplot(sort_marker,aes(x=rank,y=avg_logFC),fill=color)+geom_point(size=0.12,color=color) +xlab(\"dimorphic rank\")+ylab(\"log FC AM vs AF\")+\n",
    "scale_x_discrete(expand = c(0.05, 0.05))+\n",
    "theme(axis.text.x=element_blank(),axis.text.y=element_text(size=12, hjust = 1,color=\"black\"),axis.title.y=element_text(size=18,face=\"bold\"),axis.title.x=element_text(size=12,face=\"bold\"),plot.title = element_text(size=15),panel.grid.major = element_blank(), panel.grid.minor = element_blank(),\n",
    "panel.background = element_blank(),axis.line = element_line(colour = \"black\",size=0.5),axis.ticks.x=element_blank(),axis.ticks.length=unit(.2, \"cm\"),axis.ticks = element_line(size = 0.5), plot.margin = margin(0, 28, 0, 0))+ylim(-2.3,1.2)#+xlim(-1,dim(sort_marker)[1]+1)\n",
    "ggsave(file=\"/media/garret/New Volume/scRNAseq_data/Koichi/V3_analysis/MPOA/MPOA_integrated/log/Neurons/DEG/Esr1_3/dimorphic/dimorphic genes.pdf\",width=2.2,height=10,paper=\"letter\")"
   ]
  },
  {
   "cell_type": "code",
   "execution_count": 9,
   "metadata": {},
   "outputs": [],
   "source": [
    "write.xlsx2(subset(sort_marker, p_val_adjust<0.05),file=(\"/media/garret/New Volume/scRNAseq_data/Koichi/V3_analysis/MPOA/MPOA_integrated/log/Neurons/DEG/Esr1_3/dimorphic/dimorphic genes.xlsx\"))"
   ]
  },
  {
   "cell_type": "markdown",
   "metadata": {},
   "source": [
    "# hormone gene in male, female and shared"
   ]
  },
  {
   "cell_type": "code",
   "execution_count": 7,
   "metadata": {},
   "outputs": [],
   "source": [
    "male_hormone<- read.xlsx(\"/media/garret/New Volume/scRNAseq_data/Koichi/V3_analysis/MPOA/MPOA_integrated/log/Neurons/DEG/Esr1_3/AM_over_Cast/All_gene.xlsx\",sheetIndex=1)\n",
    "rownames(male_hormone)<-male_hormone[,1]\n",
    "female_hormone<- read.xlsx(\"/media/garret/New Volume/scRNAseq_data/Koichi/V3_analysis/MPOA/MPOA_integrated/log/Neurons/DEG/Esr1_3/AF_over_OVX/All_gene.xlsx\",sheetIndex=1)\n",
    "rownames(female_hormone)<-female_hormone[,1]\n",
    "dimorphic<-read.xlsx(\"/media/garret/New Volume/scRNAseq_data/Koichi/V3_analysis/MPOA/MPOA_integrated/log/Neurons/DEG/Esr1_3/dimorphic/dimorphic genes.xlsx\",sheetIndex=1)\n",
    "rownames(dimorphic)<-dimorphic[,2]"
   ]
  },
  {
   "cell_type": "code",
   "execution_count": 7,
   "metadata": {
    "collapsed": true
   },
   "outputs": [
    {
     "data": {
      "text/html": [
       "<table>\n",
       "<caption>A data.frame: 155 × 10</caption>\n",
       "<thead>\n",
       "\t<tr><th></th><th scope=col>NA..1</th><th scope=col>NA.</th><th scope=col>p_val</th><th scope=col>avg_logFC</th><th scope=col>pct.1</th><th scope=col>pct.2</th><th scope=col>p_val_adj</th><th scope=col>p_val_adjust</th><th scope=col>rank</th><th scope=col>color</th></tr>\n",
       "\t<tr><th></th><th scope=col>&lt;fct&gt;</th><th scope=col>&lt;fct&gt;</th><th scope=col>&lt;dbl&gt;</th><th scope=col>&lt;dbl&gt;</th><th scope=col>&lt;dbl&gt;</th><th scope=col>&lt;dbl&gt;</th><th scope=col>&lt;dbl&gt;</th><th scope=col>&lt;dbl&gt;</th><th scope=col>&lt;fct&gt;</th><th scope=col>&lt;fct&gt;</th></tr>\n",
       "</thead>\n",
       "<tbody>\n",
       "\t<tr><th scope=row>Ddx3y</th><td>1 </td><td>Ddx3y  </td><td>6.856519e-67</td><td>1.1118923</td><td>0.783</td><td>0.000</td><td>1.394959e-62</td><td>1.095672e-62</td><td>1 </td><td>darkblue</td></tr>\n",
       "\t<tr><th scope=row>Pcsk1n</th><td>2 </td><td>Pcsk1n </td><td>3.230176e-16</td><td>0.5939313</td><td>0.996</td><td>0.988</td><td>6.571793e-12</td><td>5.158914e-12</td><td>2 </td><td>darkblue</td></tr>\n",
       "\t<tr><th scope=row>Gm10076</th><td>3 </td><td>Gm10076</td><td>3.308051e-25</td><td>0.5421433</td><td>0.898</td><td>0.658</td><td>6.730230e-21</td><td>5.285274e-21</td><td>3 </td><td>darkblue</td></tr>\n",
       "\t<tr><th scope=row>Eef1a2</th><td>4 </td><td>Eef1a2 </td><td>2.414377e-23</td><td>0.5304022</td><td>0.902</td><td>0.665</td><td>4.912051e-19</td><td>3.856968e-19</td><td>4 </td><td>darkblue</td></tr>\n",
       "\t<tr><th scope=row>Eif2s3y</th><td>5 </td><td>Eif2s3y</td><td>4.825680e-34</td><td>0.5088357</td><td>0.460</td><td>0.000</td><td>9.817845e-30</td><td>7.710954e-30</td><td>5 </td><td>darkblue</td></tr>\n",
       "\t<tr><th scope=row>Vsnl1</th><td>6 </td><td>Vsnl1  </td><td>1.082552e-13</td><td>0.4864726</td><td>0.821</td><td>0.568</td><td>2.202451e-09</td><td>1.728077e-09</td><td>6 </td><td>darkblue</td></tr>\n",
       "\t<tr><th scope=row>Lamp5</th><td>7 </td><td>Lamp5  </td><td>9.889549e-16</td><td>0.4533422</td><td>0.430</td><td>0.125</td><td>2.012029e-11</td><td>1.579361e-11</td><td>7 </td><td>darkblue</td></tr>\n",
       "\t<tr><th scope=row>Grik1</th><td>8 </td><td>Grik1  </td><td>1.072388e-11</td><td>0.4459106</td><td>0.643</td><td>0.366</td><td>2.181772e-07</td><td>1.710780e-07</td><td>8 </td><td>darkblue</td></tr>\n",
       "\t<tr><th scope=row>Syn2</th><td>9 </td><td>Syn2   </td><td>2.875924e-14</td><td>0.4097813</td><td>0.928</td><td>0.829</td><td>5.851066e-10</td><td>4.591700e-10</td><td>9 </td><td>darkblue</td></tr>\n",
       "\t<tr><th scope=row>Camk2n1</th><td>10</td><td>Camk2n1</td><td>2.007838e-15</td><td>0.3939196</td><td>0.894</td><td>0.626</td><td>4.084946e-11</td><td>3.206316e-11</td><td>10</td><td>darkblue</td></tr>\n",
       "\t<tr><th scope=row>Gpr101</th><td>11</td><td>Gpr101 </td><td>4.778684e-07</td><td>0.3817165</td><td>0.387</td><td>0.191</td><td>9.722233e-03</td><td>7.584728e-03</td><td>11</td><td>darkblue</td></tr>\n",
       "\t<tr><th scope=row>Dhcr24</th><td>12</td><td>Dhcr24 </td><td>2.197759e-14</td><td>0.3742067</td><td>0.523</td><td>0.202</td><td>4.471341e-10</td><td>3.509162e-10</td><td>12</td><td>darkblue</td></tr>\n",
       "\t<tr><th scope=row>Gal</th><td>13</td><td>Gal    </td><td>4.036578e-07</td><td>0.3733497</td><td>0.494</td><td>0.276</td><td>8.212418e-03</td><td>6.408875e-03</td><td>13</td><td>darkblue</td></tr>\n",
       "\t<tr><th scope=row>Napb</th><td>14</td><td>Napb   </td><td>3.540480e-07</td><td>0.3685584</td><td>0.983</td><td>0.961</td><td>7.203107e-03</td><td>5.622282e-03</td><td>14</td><td>darkblue</td></tr>\n",
       "\t<tr><th scope=row>Lynx1</th><td>15</td><td>Lynx1  </td><td>1.159210e-08</td><td>0.3594527</td><td>0.638</td><td>0.405</td><td>2.358413e-04</td><td>1.845810e-04</td><td>15</td><td>darkblue</td></tr>\n",
       "\t<tr><th scope=row>Ncdn</th><td>16</td><td>Ncdn   </td><td>7.443556e-08</td><td>0.3591614</td><td>0.804</td><td>0.677</td><td>1.514391e-03</td><td>1.183451e-03</td><td>16</td><td>darkblue</td></tr>\n",
       "\t<tr><th scope=row>Chn1</th><td>17</td><td>Chn1   </td><td>1.118876e-11</td><td>0.3588154</td><td>0.791</td><td>0.572</td><td>2.276354e-07</td><td>1.784831e-07</td><td>17</td><td>darkblue</td></tr>\n",
       "\t<tr><th scope=row>Bend6</th><td>18</td><td>Bend6  </td><td>4.321360e-09</td><td>0.3526132</td><td>0.774</td><td>0.576</td><td>8.791808e-05</td><td>6.883495e-05</td><td>18</td><td>darkblue</td></tr>\n",
       "\t<tr><th scope=row>Ube2m</th><td>19</td><td>Ube2m  </td><td>2.911376e-12</td><td>0.3479802</td><td>0.732</td><td>0.506</td><td>5.923194e-08</td><td>4.645392e-08</td><td>19</td><td>darkblue</td></tr>\n",
       "\t<tr><th scope=row>Ogfrl1</th><td>20</td><td>Ogfrl1 </td><td>2.141981e-07</td><td>0.3410477</td><td>0.877</td><td>0.728</td><td>4.357861e-03</td><td>3.403180e-03</td><td>20</td><td>darkblue</td></tr>\n",
       "\t<tr><th scope=row>Cplx1</th><td>21</td><td>Cplx1  </td><td>1.831117e-06</td><td>0.3396334</td><td>0.391</td><td>0.210</td><td>3.725408e-02</td><td>2.902870e-02</td><td>21</td><td>darkblue</td></tr>\n",
       "\t<tr><th scope=row>Rspo1</th><td>22</td><td>Rspo1  </td><td>5.724808e-12</td><td>0.3346552</td><td>0.349</td><td>0.105</td><td>1.164712e-07</td><td>9.133359e-08</td><td>22</td><td>darkblue</td></tr>\n",
       "\t<tr><th scope=row>Tnrc6c</th><td>23</td><td>Tnrc6c </td><td>7.621787e-11</td><td>0.3312291</td><td>0.766</td><td>0.521</td><td>1.550653e-06</td><td>1.215599e-06</td><td>23</td><td>darkblue</td></tr>\n",
       "\t<tr><th scope=row>Pdcd7</th><td>24</td><td>Pdcd7  </td><td>3.762209e-08</td><td>0.3295996</td><td>0.600</td><td>0.397</td><td>7.654215e-04</td><td>5.984923e-04</td><td>24</td><td>darkblue</td></tr>\n",
       "\t<tr><th scope=row>Gnai1</th><td>25</td><td>Gnai1  </td><td>1.068225e-08</td><td>0.3266319</td><td>0.711</td><td>0.486</td><td>2.173303e-04</td><td>1.701148e-04</td><td>25</td><td>darkblue</td></tr>\n",
       "\t<tr><th scope=row>Prkce</th><td>26</td><td>Prkce  </td><td>2.241625e-10</td><td>0.3243398</td><td>0.906</td><td>0.778</td><td>4.560587e-06</td><td>3.573599e-06</td><td>26</td><td>darkblue</td></tr>\n",
       "\t<tr><th scope=row>Calb2</th><td>27</td><td>Calb2  </td><td>1.872924e-06</td><td>0.3229828</td><td>0.468</td><td>0.268</td><td>3.810464e-02</td><td>2.968772e-02</td><td>27</td><td>darkblue</td></tr>\n",
       "\t<tr><th scope=row>Rab3a</th><td>28</td><td>Rab3a  </td><td>3.909767e-12</td><td>0.3196770</td><td>0.953</td><td>0.864</td><td>7.954421e-08</td><td>6.238033e-08</td><td>28</td><td>darkblue</td></tr>\n",
       "\t<tr><th scope=row>Slc12a5</th><td>29</td><td>Slc12a5</td><td>2.665052e-10</td><td>0.3129752</td><td>0.936</td><td>0.833</td><td>5.422048e-06</td><td>4.248359e-06</td><td>29</td><td>darkblue</td></tr>\n",
       "\t<tr><th scope=row>Scn1b</th><td>30</td><td>Scn1b  </td><td>2.633854e-08</td><td>0.3085415</td><td>0.630</td><td>0.401</td><td>5.358576e-04</td><td>4.191252e-04</td><td>30</td><td>darkblue</td></tr>\n",
       "\t<tr><th scope=row>⋮</th><td>⋮</td><td>⋮</td><td>⋮</td><td>⋮</td><td>⋮</td><td>⋮</td><td>⋮</td><td>⋮</td><td>⋮</td><td>⋮</td></tr>\n",
       "\t<tr><th scope=row>Meg3</th><td>15945</td><td>Meg3         </td><td>1.777896e-08</td><td>-0.2680343</td><td>1.000</td><td>1.000</td><td>3.617129e-04</td><td>2.829877e-04</td><td>15945</td><td>salmon</td></tr>\n",
       "\t<tr><th scope=row>Galnt14</th><td>15946</td><td>Galnt14      </td><td>2.070180e-07</td><td>-0.2694104</td><td>0.230</td><td>0.432</td><td>4.211780e-03</td><td>3.289308e-03</td><td>15946</td><td>salmon</td></tr>\n",
       "\t<tr><th scope=row>Ogt</th><td>15948</td><td>Ogt          </td><td>3.417816e-07</td><td>-0.2815409</td><td>0.957</td><td>0.981</td><td>6.953546e-03</td><td>5.428175e-03</td><td>15948</td><td>salmon</td></tr>\n",
       "\t<tr><th scope=row>Lrfn5</th><td>15949</td><td>Lrfn5        </td><td>3.683508e-08</td><td>-0.2831746</td><td>0.851</td><td>0.957</td><td>7.494097e-04</td><td>5.860093e-04</td><td>15949</td><td>salmon</td></tr>\n",
       "\t<tr><th scope=row>2010005H15Rik</th><td>15951</td><td>2010005H15Rik</td><td>1.416592e-06</td><td>-0.2908072</td><td>0.209</td><td>0.401</td><td>2.882057e-02</td><td>2.246715e-02</td><td>15951</td><td>salmon</td></tr>\n",
       "\t<tr><th scope=row>Negr1</th><td>15952</td><td>Negr1        </td><td>1.701291e-08</td><td>-0.2922128</td><td>0.923</td><td>0.981</td><td>3.461276e-04</td><td>2.708114e-04</td><td>15952</td><td>salmon</td></tr>\n",
       "\t<tr><th scope=row>Rap1gap</th><td>15954</td><td>Rap1gap      </td><td>1.010132e-06</td><td>-0.2997172</td><td>0.655</td><td>0.759</td><td>2.055114e-02</td><td>1.602676e-02</td><td>15954</td><td>salmon</td></tr>\n",
       "\t<tr><th scope=row>Lman2l</th><td>15955</td><td>Lman2l       </td><td>2.978309e-08</td><td>-0.3089578</td><td>0.400</td><td>0.603</td><td>6.059370e-04</td><td>4.738788e-04</td><td>15955</td><td>salmon</td></tr>\n",
       "\t<tr><th scope=row>Plp1</th><td>15956</td><td>Plp1         </td><td>1.327814e-10</td><td>-0.3255275</td><td>0.340</td><td>0.599</td><td>2.701437e-06</td><td>2.117331e-06</td><td>15956</td><td>salmon</td></tr>\n",
       "\t<tr><th scope=row>Maf</th><td>15958</td><td>Maf          </td><td>4.755219e-07</td><td>-0.3343605</td><td>0.162</td><td>0.342</td><td>9.674493e-03</td><td>7.547959e-03</td><td>15958</td><td>salmon</td></tr>\n",
       "\t<tr><th scope=row>Dgkb</th><td>15959</td><td>Dgkb         </td><td>2.364018e-08</td><td>-0.3658502</td><td>0.685</td><td>0.813</td><td>4.809594e-04</td><td>3.762098e-04</td><td>15959</td><td>salmon</td></tr>\n",
       "\t<tr><th scope=row>Scg2</th><td>15960</td><td>Scg2         </td><td>2.281472e-13</td><td>-0.3694787</td><td>1.000</td><td>1.000</td><td>4.641656e-09</td><td>3.641230e-09</td><td>15960</td><td>salmon</td></tr>\n",
       "\t<tr><th scope=row>Bcl11a</th><td>15961</td><td>Bcl11a       </td><td>2.053747e-09</td><td>-0.3754395</td><td>0.319</td><td>0.576</td><td>4.178348e-05</td><td>3.272440e-05</td><td>15961</td><td>salmon</td></tr>\n",
       "\t<tr><th scope=row>Fam46a</th><td>15962</td><td>Fam46a       </td><td>1.611282e-07</td><td>-0.3760820</td><td>0.277</td><td>0.486</td><td>3.278153e-03</td><td>2.560811e-03</td><td>15962</td><td>salmon</td></tr>\n",
       "\t<tr><th scope=row>Plekhb1</th><td>15963</td><td>Plekhb1      </td><td>1.813791e-08</td><td>-0.3812161</td><td>0.294</td><td>0.498</td><td>3.690158e-04</td><td>2.886648e-04</td><td>15963</td><td>salmon</td></tr>\n",
       "\t<tr><th scope=row>Rgs4</th><td>15964</td><td>Rgs4         </td><td>1.139806e-08</td><td>-0.3881628</td><td>0.481</td><td>0.704</td><td>2.318935e-04</td><td>1.815027e-04</td><td>15964</td><td>salmon</td></tr>\n",
       "\t<tr><th scope=row>Ntng1</th><td>15966</td><td>Ntng1        </td><td>2.766398e-08</td><td>-0.4031493</td><td>0.736</td><td>0.883</td><td>5.628237e-04</td><td>4.401893e-04</td><td>15966</td><td>salmon</td></tr>\n",
       "\t<tr><th scope=row>Pcdh15</th><td>15967</td><td>Pcdh15       </td><td>4.578119e-08</td><td>-0.4056722</td><td>0.277</td><td>0.482</td><td>9.314182e-04</td><td>7.281498e-04</td><td>15967</td><td>salmon</td></tr>\n",
       "\t<tr><th scope=row>Npy2r</th><td>15968</td><td>Npy2r        </td><td>7.310871e-10</td><td>-0.4112807</td><td>0.434</td><td>0.689</td><td>1.487397e-05</td><td>1.165134e-05</td><td>15968</td><td>salmon</td></tr>\n",
       "\t<tr><th scope=row>Tead1</th><td>15970</td><td>Tead1        </td><td>7.267675e-09</td><td>-0.4204557</td><td>0.289</td><td>0.506</td><td>1.478609e-04</td><td>1.157523e-04</td><td>15970</td><td>salmon</td></tr>\n",
       "\t<tr><th scope=row>Wdr89</th><td>15971</td><td>Wdr89        </td><td>1.099845e-13</td><td>-0.4275479</td><td>0.498</td><td>0.747</td><td>2.237634e-09</td><td>1.755572e-09</td><td>15971</td><td>salmon</td></tr>\n",
       "\t<tr><th scope=row>Socs2</th><td>15972</td><td>Socs2        </td><td>3.117501e-11</td><td>-0.4461204</td><td>0.200</td><td>0.475</td><td>6.342556e-07</td><td>4.972726e-07</td><td>15972</td><td>salmon</td></tr>\n",
       "\t<tr><th scope=row>Ptprk</th><td>15973</td><td>Ptprk        </td><td>4.425323e-14</td><td>-0.4633727</td><td>0.230</td><td>0.545</td><td>9.003319e-10</td><td>7.065028e-10</td><td>15973</td><td>salmon</td></tr>\n",
       "\t<tr><th scope=row>Msi2</th><td>15974</td><td>Msi2         </td><td>1.879219e-12</td><td>-0.4698305</td><td>0.468</td><td>0.712</td><td>3.823272e-08</td><td>2.998858e-08</td><td>15974</td><td>salmon</td></tr>\n",
       "\t<tr><th scope=row>Tmem158</th><td>15975</td><td>Tmem158      </td><td>9.281619e-13</td><td>-0.5017466</td><td>0.757</td><td>0.903</td><td>1.888345e-08</td><td>1.481254e-08</td><td>15975</td><td>salmon</td></tr>\n",
       "\t<tr><th scope=row>Pcp4</th><td>15976</td><td>Pcp4         </td><td>2.461578e-20</td><td>-0.5153354</td><td>0.991</td><td>1.000</td><td>5.008079e-16</td><td>3.932124e-16</td><td>15976</td><td>salmon</td></tr>\n",
       "\t<tr><th scope=row>Rps27rt</th><td>15977</td><td>Rps27rt      </td><td>5.738869e-29</td><td>-0.5383111</td><td>0.868</td><td>0.969</td><td>1.167573e-24</td><td>9.169564e-25</td><td>15977</td><td>salmon</td></tr>\n",
       "\t<tr><th scope=row>Slc18a2</th><td>15978</td><td>Slc18a2      </td><td>6.964374e-17</td><td>-0.5999570</td><td>0.166</td><td>0.518</td><td>1.416902e-12</td><td>1.112420e-12</td><td>15978</td><td>salmon</td></tr>\n",
       "\t<tr><th scope=row>Esr1</th><td>15979</td><td>Esr1         </td><td>7.576594e-25</td><td>-0.6292090</td><td>0.664</td><td>0.887</td><td>1.541458e-20</td><td>1.210437e-20</td><td>15979</td><td>salmon</td></tr>\n",
       "\t<tr><th scope=row>Xist</th><td>15981</td><td>Xist         </td><td>1.393834e-90</td><td>-2.2884306</td><td>0.000</td><td>0.992</td><td>2.835755e-86</td><td>2.227486e-86</td><td>15981</td><td>salmon</td></tr>\n",
       "</tbody>\n",
       "</table>\n"
      ],
      "text/latex": [
       "A data.frame: 155 × 10\n",
       "\\begin{tabular}{r|llllllllll}\n",
       "  & NA..1 & NA. & p\\_val & avg\\_logFC & pct.1 & pct.2 & p\\_val\\_adj & p\\_val\\_adjust & rank & color\\\\\n",
       "  & <fct> & <fct> & <dbl> & <dbl> & <dbl> & <dbl> & <dbl> & <dbl> & <fct> & <fct>\\\\\n",
       "\\hline\n",
       "\tDdx3y & 1  & Ddx3y   & 6.856519e-67 & 1.1118923 & 0.783 & 0.000 & 1.394959e-62 & 1.095672e-62 & 1  & darkblue\\\\\n",
       "\tPcsk1n & 2  & Pcsk1n  & 3.230176e-16 & 0.5939313 & 0.996 & 0.988 & 6.571793e-12 & 5.158914e-12 & 2  & darkblue\\\\\n",
       "\tGm10076 & 3  & Gm10076 & 3.308051e-25 & 0.5421433 & 0.898 & 0.658 & 6.730230e-21 & 5.285274e-21 & 3  & darkblue\\\\\n",
       "\tEef1a2 & 4  & Eef1a2  & 2.414377e-23 & 0.5304022 & 0.902 & 0.665 & 4.912051e-19 & 3.856968e-19 & 4  & darkblue\\\\\n",
       "\tEif2s3y & 5  & Eif2s3y & 4.825680e-34 & 0.5088357 & 0.460 & 0.000 & 9.817845e-30 & 7.710954e-30 & 5  & darkblue\\\\\n",
       "\tVsnl1 & 6  & Vsnl1   & 1.082552e-13 & 0.4864726 & 0.821 & 0.568 & 2.202451e-09 & 1.728077e-09 & 6  & darkblue\\\\\n",
       "\tLamp5 & 7  & Lamp5   & 9.889549e-16 & 0.4533422 & 0.430 & 0.125 & 2.012029e-11 & 1.579361e-11 & 7  & darkblue\\\\\n",
       "\tGrik1 & 8  & Grik1   & 1.072388e-11 & 0.4459106 & 0.643 & 0.366 & 2.181772e-07 & 1.710780e-07 & 8  & darkblue\\\\\n",
       "\tSyn2 & 9  & Syn2    & 2.875924e-14 & 0.4097813 & 0.928 & 0.829 & 5.851066e-10 & 4.591700e-10 & 9  & darkblue\\\\\n",
       "\tCamk2n1 & 10 & Camk2n1 & 2.007838e-15 & 0.3939196 & 0.894 & 0.626 & 4.084946e-11 & 3.206316e-11 & 10 & darkblue\\\\\n",
       "\tGpr101 & 11 & Gpr101  & 4.778684e-07 & 0.3817165 & 0.387 & 0.191 & 9.722233e-03 & 7.584728e-03 & 11 & darkblue\\\\\n",
       "\tDhcr24 & 12 & Dhcr24  & 2.197759e-14 & 0.3742067 & 0.523 & 0.202 & 4.471341e-10 & 3.509162e-10 & 12 & darkblue\\\\\n",
       "\tGal & 13 & Gal     & 4.036578e-07 & 0.3733497 & 0.494 & 0.276 & 8.212418e-03 & 6.408875e-03 & 13 & darkblue\\\\\n",
       "\tNapb & 14 & Napb    & 3.540480e-07 & 0.3685584 & 0.983 & 0.961 & 7.203107e-03 & 5.622282e-03 & 14 & darkblue\\\\\n",
       "\tLynx1 & 15 & Lynx1   & 1.159210e-08 & 0.3594527 & 0.638 & 0.405 & 2.358413e-04 & 1.845810e-04 & 15 & darkblue\\\\\n",
       "\tNcdn & 16 & Ncdn    & 7.443556e-08 & 0.3591614 & 0.804 & 0.677 & 1.514391e-03 & 1.183451e-03 & 16 & darkblue\\\\\n",
       "\tChn1 & 17 & Chn1    & 1.118876e-11 & 0.3588154 & 0.791 & 0.572 & 2.276354e-07 & 1.784831e-07 & 17 & darkblue\\\\\n",
       "\tBend6 & 18 & Bend6   & 4.321360e-09 & 0.3526132 & 0.774 & 0.576 & 8.791808e-05 & 6.883495e-05 & 18 & darkblue\\\\\n",
       "\tUbe2m & 19 & Ube2m   & 2.911376e-12 & 0.3479802 & 0.732 & 0.506 & 5.923194e-08 & 4.645392e-08 & 19 & darkblue\\\\\n",
       "\tOgfrl1 & 20 & Ogfrl1  & 2.141981e-07 & 0.3410477 & 0.877 & 0.728 & 4.357861e-03 & 3.403180e-03 & 20 & darkblue\\\\\n",
       "\tCplx1 & 21 & Cplx1   & 1.831117e-06 & 0.3396334 & 0.391 & 0.210 & 3.725408e-02 & 2.902870e-02 & 21 & darkblue\\\\\n",
       "\tRspo1 & 22 & Rspo1   & 5.724808e-12 & 0.3346552 & 0.349 & 0.105 & 1.164712e-07 & 9.133359e-08 & 22 & darkblue\\\\\n",
       "\tTnrc6c & 23 & Tnrc6c  & 7.621787e-11 & 0.3312291 & 0.766 & 0.521 & 1.550653e-06 & 1.215599e-06 & 23 & darkblue\\\\\n",
       "\tPdcd7 & 24 & Pdcd7   & 3.762209e-08 & 0.3295996 & 0.600 & 0.397 & 7.654215e-04 & 5.984923e-04 & 24 & darkblue\\\\\n",
       "\tGnai1 & 25 & Gnai1   & 1.068225e-08 & 0.3266319 & 0.711 & 0.486 & 2.173303e-04 & 1.701148e-04 & 25 & darkblue\\\\\n",
       "\tPrkce & 26 & Prkce   & 2.241625e-10 & 0.3243398 & 0.906 & 0.778 & 4.560587e-06 & 3.573599e-06 & 26 & darkblue\\\\\n",
       "\tCalb2 & 27 & Calb2   & 1.872924e-06 & 0.3229828 & 0.468 & 0.268 & 3.810464e-02 & 2.968772e-02 & 27 & darkblue\\\\\n",
       "\tRab3a & 28 & Rab3a   & 3.909767e-12 & 0.3196770 & 0.953 & 0.864 & 7.954421e-08 & 6.238033e-08 & 28 & darkblue\\\\\n",
       "\tSlc12a5 & 29 & Slc12a5 & 2.665052e-10 & 0.3129752 & 0.936 & 0.833 & 5.422048e-06 & 4.248359e-06 & 29 & darkblue\\\\\n",
       "\tScn1b & 30 & Scn1b   & 2.633854e-08 & 0.3085415 & 0.630 & 0.401 & 5.358576e-04 & 4.191252e-04 & 30 & darkblue\\\\\n",
       "\t⋮ & ⋮ & ⋮ & ⋮ & ⋮ & ⋮ & ⋮ & ⋮ & ⋮ & ⋮ & ⋮\\\\\n",
       "\tMeg3 & 15945 & Meg3          & 1.777896e-08 & -0.2680343 & 1.000 & 1.000 & 3.617129e-04 & 2.829877e-04 & 15945 & salmon\\\\\n",
       "\tGalnt14 & 15946 & Galnt14       & 2.070180e-07 & -0.2694104 & 0.230 & 0.432 & 4.211780e-03 & 3.289308e-03 & 15946 & salmon\\\\\n",
       "\tOgt & 15948 & Ogt           & 3.417816e-07 & -0.2815409 & 0.957 & 0.981 & 6.953546e-03 & 5.428175e-03 & 15948 & salmon\\\\\n",
       "\tLrfn5 & 15949 & Lrfn5         & 3.683508e-08 & -0.2831746 & 0.851 & 0.957 & 7.494097e-04 & 5.860093e-04 & 15949 & salmon\\\\\n",
       "\t2010005H15Rik & 15951 & 2010005H15Rik & 1.416592e-06 & -0.2908072 & 0.209 & 0.401 & 2.882057e-02 & 2.246715e-02 & 15951 & salmon\\\\\n",
       "\tNegr1 & 15952 & Negr1         & 1.701291e-08 & -0.2922128 & 0.923 & 0.981 & 3.461276e-04 & 2.708114e-04 & 15952 & salmon\\\\\n",
       "\tRap1gap & 15954 & Rap1gap       & 1.010132e-06 & -0.2997172 & 0.655 & 0.759 & 2.055114e-02 & 1.602676e-02 & 15954 & salmon\\\\\n",
       "\tLman2l & 15955 & Lman2l        & 2.978309e-08 & -0.3089578 & 0.400 & 0.603 & 6.059370e-04 & 4.738788e-04 & 15955 & salmon\\\\\n",
       "\tPlp1 & 15956 & Plp1          & 1.327814e-10 & -0.3255275 & 0.340 & 0.599 & 2.701437e-06 & 2.117331e-06 & 15956 & salmon\\\\\n",
       "\tMaf & 15958 & Maf           & 4.755219e-07 & -0.3343605 & 0.162 & 0.342 & 9.674493e-03 & 7.547959e-03 & 15958 & salmon\\\\\n",
       "\tDgkb & 15959 & Dgkb          & 2.364018e-08 & -0.3658502 & 0.685 & 0.813 & 4.809594e-04 & 3.762098e-04 & 15959 & salmon\\\\\n",
       "\tScg2 & 15960 & Scg2          & 2.281472e-13 & -0.3694787 & 1.000 & 1.000 & 4.641656e-09 & 3.641230e-09 & 15960 & salmon\\\\\n",
       "\tBcl11a & 15961 & Bcl11a        & 2.053747e-09 & -0.3754395 & 0.319 & 0.576 & 4.178348e-05 & 3.272440e-05 & 15961 & salmon\\\\\n",
       "\tFam46a & 15962 & Fam46a        & 1.611282e-07 & -0.3760820 & 0.277 & 0.486 & 3.278153e-03 & 2.560811e-03 & 15962 & salmon\\\\\n",
       "\tPlekhb1 & 15963 & Plekhb1       & 1.813791e-08 & -0.3812161 & 0.294 & 0.498 & 3.690158e-04 & 2.886648e-04 & 15963 & salmon\\\\\n",
       "\tRgs4 & 15964 & Rgs4          & 1.139806e-08 & -0.3881628 & 0.481 & 0.704 & 2.318935e-04 & 1.815027e-04 & 15964 & salmon\\\\\n",
       "\tNtng1 & 15966 & Ntng1         & 2.766398e-08 & -0.4031493 & 0.736 & 0.883 & 5.628237e-04 & 4.401893e-04 & 15966 & salmon\\\\\n",
       "\tPcdh15 & 15967 & Pcdh15        & 4.578119e-08 & -0.4056722 & 0.277 & 0.482 & 9.314182e-04 & 7.281498e-04 & 15967 & salmon\\\\\n",
       "\tNpy2r & 15968 & Npy2r         & 7.310871e-10 & -0.4112807 & 0.434 & 0.689 & 1.487397e-05 & 1.165134e-05 & 15968 & salmon\\\\\n",
       "\tTead1 & 15970 & Tead1         & 7.267675e-09 & -0.4204557 & 0.289 & 0.506 & 1.478609e-04 & 1.157523e-04 & 15970 & salmon\\\\\n",
       "\tWdr89 & 15971 & Wdr89         & 1.099845e-13 & -0.4275479 & 0.498 & 0.747 & 2.237634e-09 & 1.755572e-09 & 15971 & salmon\\\\\n",
       "\tSocs2 & 15972 & Socs2         & 3.117501e-11 & -0.4461204 & 0.200 & 0.475 & 6.342556e-07 & 4.972726e-07 & 15972 & salmon\\\\\n",
       "\tPtprk & 15973 & Ptprk         & 4.425323e-14 & -0.4633727 & 0.230 & 0.545 & 9.003319e-10 & 7.065028e-10 & 15973 & salmon\\\\\n",
       "\tMsi2 & 15974 & Msi2          & 1.879219e-12 & -0.4698305 & 0.468 & 0.712 & 3.823272e-08 & 2.998858e-08 & 15974 & salmon\\\\\n",
       "\tTmem158 & 15975 & Tmem158       & 9.281619e-13 & -0.5017466 & 0.757 & 0.903 & 1.888345e-08 & 1.481254e-08 & 15975 & salmon\\\\\n",
       "\tPcp4 & 15976 & Pcp4          & 2.461578e-20 & -0.5153354 & 0.991 & 1.000 & 5.008079e-16 & 3.932124e-16 & 15976 & salmon\\\\\n",
       "\tRps27rt & 15977 & Rps27rt       & 5.738869e-29 & -0.5383111 & 0.868 & 0.969 & 1.167573e-24 & 9.169564e-25 & 15977 & salmon\\\\\n",
       "\tSlc18a2 & 15978 & Slc18a2       & 6.964374e-17 & -0.5999570 & 0.166 & 0.518 & 1.416902e-12 & 1.112420e-12 & 15978 & salmon\\\\\n",
       "\tEsr1 & 15979 & Esr1          & 7.576594e-25 & -0.6292090 & 0.664 & 0.887 & 1.541458e-20 & 1.210437e-20 & 15979 & salmon\\\\\n",
       "\tXist & 15981 & Xist          & 1.393834e-90 & -2.2884306 & 0.000 & 0.992 & 2.835755e-86 & 2.227486e-86 & 15981 & salmon\\\\\n",
       "\\end{tabular}\n"
      ],
      "text/markdown": [
       "\n",
       "A data.frame: 155 × 10\n",
       "\n",
       "| <!--/--> | NA..1 &lt;fct&gt; | NA. &lt;fct&gt; | p_val &lt;dbl&gt; | avg_logFC &lt;dbl&gt; | pct.1 &lt;dbl&gt; | pct.2 &lt;dbl&gt; | p_val_adj &lt;dbl&gt; | p_val_adjust &lt;dbl&gt; | rank &lt;fct&gt; | color &lt;fct&gt; |\n",
       "|---|---|---|---|---|---|---|---|---|---|---|\n",
       "| Ddx3y | 1  | Ddx3y   | 6.856519e-67 | 1.1118923 | 0.783 | 0.000 | 1.394959e-62 | 1.095672e-62 | 1  | darkblue |\n",
       "| Pcsk1n | 2  | Pcsk1n  | 3.230176e-16 | 0.5939313 | 0.996 | 0.988 | 6.571793e-12 | 5.158914e-12 | 2  | darkblue |\n",
       "| Gm10076 | 3  | Gm10076 | 3.308051e-25 | 0.5421433 | 0.898 | 0.658 | 6.730230e-21 | 5.285274e-21 | 3  | darkblue |\n",
       "| Eef1a2 | 4  | Eef1a2  | 2.414377e-23 | 0.5304022 | 0.902 | 0.665 | 4.912051e-19 | 3.856968e-19 | 4  | darkblue |\n",
       "| Eif2s3y | 5  | Eif2s3y | 4.825680e-34 | 0.5088357 | 0.460 | 0.000 | 9.817845e-30 | 7.710954e-30 | 5  | darkblue |\n",
       "| Vsnl1 | 6  | Vsnl1   | 1.082552e-13 | 0.4864726 | 0.821 | 0.568 | 2.202451e-09 | 1.728077e-09 | 6  | darkblue |\n",
       "| Lamp5 | 7  | Lamp5   | 9.889549e-16 | 0.4533422 | 0.430 | 0.125 | 2.012029e-11 | 1.579361e-11 | 7  | darkblue |\n",
       "| Grik1 | 8  | Grik1   | 1.072388e-11 | 0.4459106 | 0.643 | 0.366 | 2.181772e-07 | 1.710780e-07 | 8  | darkblue |\n",
       "| Syn2 | 9  | Syn2    | 2.875924e-14 | 0.4097813 | 0.928 | 0.829 | 5.851066e-10 | 4.591700e-10 | 9  | darkblue |\n",
       "| Camk2n1 | 10 | Camk2n1 | 2.007838e-15 | 0.3939196 | 0.894 | 0.626 | 4.084946e-11 | 3.206316e-11 | 10 | darkblue |\n",
       "| Gpr101 | 11 | Gpr101  | 4.778684e-07 | 0.3817165 | 0.387 | 0.191 | 9.722233e-03 | 7.584728e-03 | 11 | darkblue |\n",
       "| Dhcr24 | 12 | Dhcr24  | 2.197759e-14 | 0.3742067 | 0.523 | 0.202 | 4.471341e-10 | 3.509162e-10 | 12 | darkblue |\n",
       "| Gal | 13 | Gal     | 4.036578e-07 | 0.3733497 | 0.494 | 0.276 | 8.212418e-03 | 6.408875e-03 | 13 | darkblue |\n",
       "| Napb | 14 | Napb    | 3.540480e-07 | 0.3685584 | 0.983 | 0.961 | 7.203107e-03 | 5.622282e-03 | 14 | darkblue |\n",
       "| Lynx1 | 15 | Lynx1   | 1.159210e-08 | 0.3594527 | 0.638 | 0.405 | 2.358413e-04 | 1.845810e-04 | 15 | darkblue |\n",
       "| Ncdn | 16 | Ncdn    | 7.443556e-08 | 0.3591614 | 0.804 | 0.677 | 1.514391e-03 | 1.183451e-03 | 16 | darkblue |\n",
       "| Chn1 | 17 | Chn1    | 1.118876e-11 | 0.3588154 | 0.791 | 0.572 | 2.276354e-07 | 1.784831e-07 | 17 | darkblue |\n",
       "| Bend6 | 18 | Bend6   | 4.321360e-09 | 0.3526132 | 0.774 | 0.576 | 8.791808e-05 | 6.883495e-05 | 18 | darkblue |\n",
       "| Ube2m | 19 | Ube2m   | 2.911376e-12 | 0.3479802 | 0.732 | 0.506 | 5.923194e-08 | 4.645392e-08 | 19 | darkblue |\n",
       "| Ogfrl1 | 20 | Ogfrl1  | 2.141981e-07 | 0.3410477 | 0.877 | 0.728 | 4.357861e-03 | 3.403180e-03 | 20 | darkblue |\n",
       "| Cplx1 | 21 | Cplx1   | 1.831117e-06 | 0.3396334 | 0.391 | 0.210 | 3.725408e-02 | 2.902870e-02 | 21 | darkblue |\n",
       "| Rspo1 | 22 | Rspo1   | 5.724808e-12 | 0.3346552 | 0.349 | 0.105 | 1.164712e-07 | 9.133359e-08 | 22 | darkblue |\n",
       "| Tnrc6c | 23 | Tnrc6c  | 7.621787e-11 | 0.3312291 | 0.766 | 0.521 | 1.550653e-06 | 1.215599e-06 | 23 | darkblue |\n",
       "| Pdcd7 | 24 | Pdcd7   | 3.762209e-08 | 0.3295996 | 0.600 | 0.397 | 7.654215e-04 | 5.984923e-04 | 24 | darkblue |\n",
       "| Gnai1 | 25 | Gnai1   | 1.068225e-08 | 0.3266319 | 0.711 | 0.486 | 2.173303e-04 | 1.701148e-04 | 25 | darkblue |\n",
       "| Prkce | 26 | Prkce   | 2.241625e-10 | 0.3243398 | 0.906 | 0.778 | 4.560587e-06 | 3.573599e-06 | 26 | darkblue |\n",
       "| Calb2 | 27 | Calb2   | 1.872924e-06 | 0.3229828 | 0.468 | 0.268 | 3.810464e-02 | 2.968772e-02 | 27 | darkblue |\n",
       "| Rab3a | 28 | Rab3a   | 3.909767e-12 | 0.3196770 | 0.953 | 0.864 | 7.954421e-08 | 6.238033e-08 | 28 | darkblue |\n",
       "| Slc12a5 | 29 | Slc12a5 | 2.665052e-10 | 0.3129752 | 0.936 | 0.833 | 5.422048e-06 | 4.248359e-06 | 29 | darkblue |\n",
       "| Scn1b | 30 | Scn1b   | 2.633854e-08 | 0.3085415 | 0.630 | 0.401 | 5.358576e-04 | 4.191252e-04 | 30 | darkblue |\n",
       "| ⋮ | ⋮ | ⋮ | ⋮ | ⋮ | ⋮ | ⋮ | ⋮ | ⋮ | ⋮ | ⋮ |\n",
       "| Meg3 | 15945 | Meg3          | 1.777896e-08 | -0.2680343 | 1.000 | 1.000 | 3.617129e-04 | 2.829877e-04 | 15945 | salmon |\n",
       "| Galnt14 | 15946 | Galnt14       | 2.070180e-07 | -0.2694104 | 0.230 | 0.432 | 4.211780e-03 | 3.289308e-03 | 15946 | salmon |\n",
       "| Ogt | 15948 | Ogt           | 3.417816e-07 | -0.2815409 | 0.957 | 0.981 | 6.953546e-03 | 5.428175e-03 | 15948 | salmon |\n",
       "| Lrfn5 | 15949 | Lrfn5         | 3.683508e-08 | -0.2831746 | 0.851 | 0.957 | 7.494097e-04 | 5.860093e-04 | 15949 | salmon |\n",
       "| 2010005H15Rik | 15951 | 2010005H15Rik | 1.416592e-06 | -0.2908072 | 0.209 | 0.401 | 2.882057e-02 | 2.246715e-02 | 15951 | salmon |\n",
       "| Negr1 | 15952 | Negr1         | 1.701291e-08 | -0.2922128 | 0.923 | 0.981 | 3.461276e-04 | 2.708114e-04 | 15952 | salmon |\n",
       "| Rap1gap | 15954 | Rap1gap       | 1.010132e-06 | -0.2997172 | 0.655 | 0.759 | 2.055114e-02 | 1.602676e-02 | 15954 | salmon |\n",
       "| Lman2l | 15955 | Lman2l        | 2.978309e-08 | -0.3089578 | 0.400 | 0.603 | 6.059370e-04 | 4.738788e-04 | 15955 | salmon |\n",
       "| Plp1 | 15956 | Plp1          | 1.327814e-10 | -0.3255275 | 0.340 | 0.599 | 2.701437e-06 | 2.117331e-06 | 15956 | salmon |\n",
       "| Maf | 15958 | Maf           | 4.755219e-07 | -0.3343605 | 0.162 | 0.342 | 9.674493e-03 | 7.547959e-03 | 15958 | salmon |\n",
       "| Dgkb | 15959 | Dgkb          | 2.364018e-08 | -0.3658502 | 0.685 | 0.813 | 4.809594e-04 | 3.762098e-04 | 15959 | salmon |\n",
       "| Scg2 | 15960 | Scg2          | 2.281472e-13 | -0.3694787 | 1.000 | 1.000 | 4.641656e-09 | 3.641230e-09 | 15960 | salmon |\n",
       "| Bcl11a | 15961 | Bcl11a        | 2.053747e-09 | -0.3754395 | 0.319 | 0.576 | 4.178348e-05 | 3.272440e-05 | 15961 | salmon |\n",
       "| Fam46a | 15962 | Fam46a        | 1.611282e-07 | -0.3760820 | 0.277 | 0.486 | 3.278153e-03 | 2.560811e-03 | 15962 | salmon |\n",
       "| Plekhb1 | 15963 | Plekhb1       | 1.813791e-08 | -0.3812161 | 0.294 | 0.498 | 3.690158e-04 | 2.886648e-04 | 15963 | salmon |\n",
       "| Rgs4 | 15964 | Rgs4          | 1.139806e-08 | -0.3881628 | 0.481 | 0.704 | 2.318935e-04 | 1.815027e-04 | 15964 | salmon |\n",
       "| Ntng1 | 15966 | Ntng1         | 2.766398e-08 | -0.4031493 | 0.736 | 0.883 | 5.628237e-04 | 4.401893e-04 | 15966 | salmon |\n",
       "| Pcdh15 | 15967 | Pcdh15        | 4.578119e-08 | -0.4056722 | 0.277 | 0.482 | 9.314182e-04 | 7.281498e-04 | 15967 | salmon |\n",
       "| Npy2r | 15968 | Npy2r         | 7.310871e-10 | -0.4112807 | 0.434 | 0.689 | 1.487397e-05 | 1.165134e-05 | 15968 | salmon |\n",
       "| Tead1 | 15970 | Tead1         | 7.267675e-09 | -0.4204557 | 0.289 | 0.506 | 1.478609e-04 | 1.157523e-04 | 15970 | salmon |\n",
       "| Wdr89 | 15971 | Wdr89         | 1.099845e-13 | -0.4275479 | 0.498 | 0.747 | 2.237634e-09 | 1.755572e-09 | 15971 | salmon |\n",
       "| Socs2 | 15972 | Socs2         | 3.117501e-11 | -0.4461204 | 0.200 | 0.475 | 6.342556e-07 | 4.972726e-07 | 15972 | salmon |\n",
       "| Ptprk | 15973 | Ptprk         | 4.425323e-14 | -0.4633727 | 0.230 | 0.545 | 9.003319e-10 | 7.065028e-10 | 15973 | salmon |\n",
       "| Msi2 | 15974 | Msi2          | 1.879219e-12 | -0.4698305 | 0.468 | 0.712 | 3.823272e-08 | 2.998858e-08 | 15974 | salmon |\n",
       "| Tmem158 | 15975 | Tmem158       | 9.281619e-13 | -0.5017466 | 0.757 | 0.903 | 1.888345e-08 | 1.481254e-08 | 15975 | salmon |\n",
       "| Pcp4 | 15976 | Pcp4          | 2.461578e-20 | -0.5153354 | 0.991 | 1.000 | 5.008079e-16 | 3.932124e-16 | 15976 | salmon |\n",
       "| Rps27rt | 15977 | Rps27rt       | 5.738869e-29 | -0.5383111 | 0.868 | 0.969 | 1.167573e-24 | 9.169564e-25 | 15977 | salmon |\n",
       "| Slc18a2 | 15978 | Slc18a2       | 6.964374e-17 | -0.5999570 | 0.166 | 0.518 | 1.416902e-12 | 1.112420e-12 | 15978 | salmon |\n",
       "| Esr1 | 15979 | Esr1          | 7.576594e-25 | -0.6292090 | 0.664 | 0.887 | 1.541458e-20 | 1.210437e-20 | 15979 | salmon |\n",
       "| Xist | 15981 | Xist          | 1.393834e-90 | -2.2884306 | 0.000 | 0.992 | 2.835755e-86 | 2.227486e-86 | 15981 | salmon |\n",
       "\n"
      ],
      "text/plain": [
       "              NA..1 NA.           p_val        avg_logFC  pct.1 pct.2\n",
       "Ddx3y         1     Ddx3y         6.856519e-67 1.1118923  0.783 0.000\n",
       "Pcsk1n        2     Pcsk1n        3.230176e-16 0.5939313  0.996 0.988\n",
       "Gm10076       3     Gm10076       3.308051e-25 0.5421433  0.898 0.658\n",
       "Eef1a2        4     Eef1a2        2.414377e-23 0.5304022  0.902 0.665\n",
       "Eif2s3y       5     Eif2s3y       4.825680e-34 0.5088357  0.460 0.000\n",
       "Vsnl1         6     Vsnl1         1.082552e-13 0.4864726  0.821 0.568\n",
       "Lamp5         7     Lamp5         9.889549e-16 0.4533422  0.430 0.125\n",
       "Grik1         8     Grik1         1.072388e-11 0.4459106  0.643 0.366\n",
       "Syn2          9     Syn2          2.875924e-14 0.4097813  0.928 0.829\n",
       "Camk2n1       10    Camk2n1       2.007838e-15 0.3939196  0.894 0.626\n",
       "Gpr101        11    Gpr101        4.778684e-07 0.3817165  0.387 0.191\n",
       "Dhcr24        12    Dhcr24        2.197759e-14 0.3742067  0.523 0.202\n",
       "Gal           13    Gal           4.036578e-07 0.3733497  0.494 0.276\n",
       "Napb          14    Napb          3.540480e-07 0.3685584  0.983 0.961\n",
       "Lynx1         15    Lynx1         1.159210e-08 0.3594527  0.638 0.405\n",
       "Ncdn          16    Ncdn          7.443556e-08 0.3591614  0.804 0.677\n",
       "Chn1          17    Chn1          1.118876e-11 0.3588154  0.791 0.572\n",
       "Bend6         18    Bend6         4.321360e-09 0.3526132  0.774 0.576\n",
       "Ube2m         19    Ube2m         2.911376e-12 0.3479802  0.732 0.506\n",
       "Ogfrl1        20    Ogfrl1        2.141981e-07 0.3410477  0.877 0.728\n",
       "Cplx1         21    Cplx1         1.831117e-06 0.3396334  0.391 0.210\n",
       "Rspo1         22    Rspo1         5.724808e-12 0.3346552  0.349 0.105\n",
       "Tnrc6c        23    Tnrc6c        7.621787e-11 0.3312291  0.766 0.521\n",
       "Pdcd7         24    Pdcd7         3.762209e-08 0.3295996  0.600 0.397\n",
       "Gnai1         25    Gnai1         1.068225e-08 0.3266319  0.711 0.486\n",
       "Prkce         26    Prkce         2.241625e-10 0.3243398  0.906 0.778\n",
       "Calb2         27    Calb2         1.872924e-06 0.3229828  0.468 0.268\n",
       "Rab3a         28    Rab3a         3.909767e-12 0.3196770  0.953 0.864\n",
       "Slc12a5       29    Slc12a5       2.665052e-10 0.3129752  0.936 0.833\n",
       "Scn1b         30    Scn1b         2.633854e-08 0.3085415  0.630 0.401\n",
       "⋮             ⋮     ⋮             ⋮            ⋮          ⋮     ⋮    \n",
       "Meg3          15945 Meg3          1.777896e-08 -0.2680343 1.000 1.000\n",
       "Galnt14       15946 Galnt14       2.070180e-07 -0.2694104 0.230 0.432\n",
       "Ogt           15948 Ogt           3.417816e-07 -0.2815409 0.957 0.981\n",
       "Lrfn5         15949 Lrfn5         3.683508e-08 -0.2831746 0.851 0.957\n",
       "2010005H15Rik 15951 2010005H15Rik 1.416592e-06 -0.2908072 0.209 0.401\n",
       "Negr1         15952 Negr1         1.701291e-08 -0.2922128 0.923 0.981\n",
       "Rap1gap       15954 Rap1gap       1.010132e-06 -0.2997172 0.655 0.759\n",
       "Lman2l        15955 Lman2l        2.978309e-08 -0.3089578 0.400 0.603\n",
       "Plp1          15956 Plp1          1.327814e-10 -0.3255275 0.340 0.599\n",
       "Maf           15958 Maf           4.755219e-07 -0.3343605 0.162 0.342\n",
       "Dgkb          15959 Dgkb          2.364018e-08 -0.3658502 0.685 0.813\n",
       "Scg2          15960 Scg2          2.281472e-13 -0.3694787 1.000 1.000\n",
       "Bcl11a        15961 Bcl11a        2.053747e-09 -0.3754395 0.319 0.576\n",
       "Fam46a        15962 Fam46a        1.611282e-07 -0.3760820 0.277 0.486\n",
       "Plekhb1       15963 Plekhb1       1.813791e-08 -0.3812161 0.294 0.498\n",
       "Rgs4          15964 Rgs4          1.139806e-08 -0.3881628 0.481 0.704\n",
       "Ntng1         15966 Ntng1         2.766398e-08 -0.4031493 0.736 0.883\n",
       "Pcdh15        15967 Pcdh15        4.578119e-08 -0.4056722 0.277 0.482\n",
       "Npy2r         15968 Npy2r         7.310871e-10 -0.4112807 0.434 0.689\n",
       "Tead1         15970 Tead1         7.267675e-09 -0.4204557 0.289 0.506\n",
       "Wdr89         15971 Wdr89         1.099845e-13 -0.4275479 0.498 0.747\n",
       "Socs2         15972 Socs2         3.117501e-11 -0.4461204 0.200 0.475\n",
       "Ptprk         15973 Ptprk         4.425323e-14 -0.4633727 0.230 0.545\n",
       "Msi2          15974 Msi2          1.879219e-12 -0.4698305 0.468 0.712\n",
       "Tmem158       15975 Tmem158       9.281619e-13 -0.5017466 0.757 0.903\n",
       "Pcp4          15976 Pcp4          2.461578e-20 -0.5153354 0.991 1.000\n",
       "Rps27rt       15977 Rps27rt       5.738869e-29 -0.5383111 0.868 0.969\n",
       "Slc18a2       15978 Slc18a2       6.964374e-17 -0.5999570 0.166 0.518\n",
       "Esr1          15979 Esr1          7.576594e-25 -0.6292090 0.664 0.887\n",
       "Xist          15981 Xist          1.393834e-90 -2.2884306 0.000 0.992\n",
       "              p_val_adj    p_val_adjust rank  color   \n",
       "Ddx3y         1.394959e-62 1.095672e-62 1     darkblue\n",
       "Pcsk1n        6.571793e-12 5.158914e-12 2     darkblue\n",
       "Gm10076       6.730230e-21 5.285274e-21 3     darkblue\n",
       "Eef1a2        4.912051e-19 3.856968e-19 4     darkblue\n",
       "Eif2s3y       9.817845e-30 7.710954e-30 5     darkblue\n",
       "Vsnl1         2.202451e-09 1.728077e-09 6     darkblue\n",
       "Lamp5         2.012029e-11 1.579361e-11 7     darkblue\n",
       "Grik1         2.181772e-07 1.710780e-07 8     darkblue\n",
       "Syn2          5.851066e-10 4.591700e-10 9     darkblue\n",
       "Camk2n1       4.084946e-11 3.206316e-11 10    darkblue\n",
       "Gpr101        9.722233e-03 7.584728e-03 11    darkblue\n",
       "Dhcr24        4.471341e-10 3.509162e-10 12    darkblue\n",
       "Gal           8.212418e-03 6.408875e-03 13    darkblue\n",
       "Napb          7.203107e-03 5.622282e-03 14    darkblue\n",
       "Lynx1         2.358413e-04 1.845810e-04 15    darkblue\n",
       "Ncdn          1.514391e-03 1.183451e-03 16    darkblue\n",
       "Chn1          2.276354e-07 1.784831e-07 17    darkblue\n",
       "Bend6         8.791808e-05 6.883495e-05 18    darkblue\n",
       "Ube2m         5.923194e-08 4.645392e-08 19    darkblue\n",
       "Ogfrl1        4.357861e-03 3.403180e-03 20    darkblue\n",
       "Cplx1         3.725408e-02 2.902870e-02 21    darkblue\n",
       "Rspo1         1.164712e-07 9.133359e-08 22    darkblue\n",
       "Tnrc6c        1.550653e-06 1.215599e-06 23    darkblue\n",
       "Pdcd7         7.654215e-04 5.984923e-04 24    darkblue\n",
       "Gnai1         2.173303e-04 1.701148e-04 25    darkblue\n",
       "Prkce         4.560587e-06 3.573599e-06 26    darkblue\n",
       "Calb2         3.810464e-02 2.968772e-02 27    darkblue\n",
       "Rab3a         7.954421e-08 6.238033e-08 28    darkblue\n",
       "Slc12a5       5.422048e-06 4.248359e-06 29    darkblue\n",
       "Scn1b         5.358576e-04 4.191252e-04 30    darkblue\n",
       "⋮             ⋮            ⋮            ⋮     ⋮       \n",
       "Meg3          3.617129e-04 2.829877e-04 15945 salmon  \n",
       "Galnt14       4.211780e-03 3.289308e-03 15946 salmon  \n",
       "Ogt           6.953546e-03 5.428175e-03 15948 salmon  \n",
       "Lrfn5         7.494097e-04 5.860093e-04 15949 salmon  \n",
       "2010005H15Rik 2.882057e-02 2.246715e-02 15951 salmon  \n",
       "Negr1         3.461276e-04 2.708114e-04 15952 salmon  \n",
       "Rap1gap       2.055114e-02 1.602676e-02 15954 salmon  \n",
       "Lman2l        6.059370e-04 4.738788e-04 15955 salmon  \n",
       "Plp1          2.701437e-06 2.117331e-06 15956 salmon  \n",
       "Maf           9.674493e-03 7.547959e-03 15958 salmon  \n",
       "Dgkb          4.809594e-04 3.762098e-04 15959 salmon  \n",
       "Scg2          4.641656e-09 3.641230e-09 15960 salmon  \n",
       "Bcl11a        4.178348e-05 3.272440e-05 15961 salmon  \n",
       "Fam46a        3.278153e-03 2.560811e-03 15962 salmon  \n",
       "Plekhb1       3.690158e-04 2.886648e-04 15963 salmon  \n",
       "Rgs4          2.318935e-04 1.815027e-04 15964 salmon  \n",
       "Ntng1         5.628237e-04 4.401893e-04 15966 salmon  \n",
       "Pcdh15        9.314182e-04 7.281498e-04 15967 salmon  \n",
       "Npy2r         1.487397e-05 1.165134e-05 15968 salmon  \n",
       "Tead1         1.478609e-04 1.157523e-04 15970 salmon  \n",
       "Wdr89         2.237634e-09 1.755572e-09 15971 salmon  \n",
       "Socs2         6.342556e-07 4.972726e-07 15972 salmon  \n",
       "Ptprk         9.003319e-10 7.065028e-10 15973 salmon  \n",
       "Msi2          3.823272e-08 2.998858e-08 15974 salmon  \n",
       "Tmem158       1.888345e-08 1.481254e-08 15975 salmon  \n",
       "Pcp4          5.008079e-16 3.932124e-16 15976 salmon  \n",
       "Rps27rt       1.167573e-24 9.169564e-25 15977 salmon  \n",
       "Slc18a2       1.416902e-12 1.112420e-12 15978 salmon  \n",
       "Esr1          1.541458e-20 1.210437e-20 15979 salmon  \n",
       "Xist          2.835755e-86 2.227486e-86 15981 salmon  "
      ]
     },
     "metadata": {},
     "output_type": "display_data"
    }
   ],
   "source": [
    "dimorphic # not used"
   ]
  },
  {
   "cell_type": "code",
   "execution_count": 8,
   "metadata": {},
   "outputs": [],
   "source": [
    "rank<-c(1:dim(male_hormone)[1])\n",
    "#rank<-factor(rank,levels=rank)\n",
    "male_hormone$rank<-rank"
   ]
  },
  {
   "cell_type": "code",
   "execution_count": 9,
   "metadata": {},
   "outputs": [],
   "source": [
    "rank<-c(1:dim(female_hormone)[1])\n",
    "#rank<-factor(rank,levels=rank)\n",
    "female_hormone$rank<-rank"
   ]
  },
  {
   "cell_type": "code",
   "execution_count": 10,
   "metadata": {},
   "outputs": [],
   "source": [
    "common<-intersect(rownames(subset(male_hormone,avg_logFC>0 & p_val_adjust<0.05)),rownames(subset(female_hormone,avg_logFC>0 & p_val_adjust<0.05)))"
   ]
  },
  {
   "cell_type": "code",
   "execution_count": 14,
   "metadata": {
    "collapsed": true
   },
   "outputs": [
    {
     "data": {
      "text/html": [
       "<style>\n",
       ".list-inline {list-style: none; margin:0; padding: 0}\n",
       ".list-inline>li {display: inline-block}\n",
       ".list-inline>li:not(:last-child)::after {content: \"\\00b7\"; padding: 0 .5ex}\n",
       "</style>\n",
       "<ol class=list-inline><li>138</li><li>8</li></ol>\n"
      ],
      "text/latex": [
       "\\begin{enumerate*}\n",
       "\\item 138\n",
       "\\item 8\n",
       "\\end{enumerate*}\n"
      ],
      "text/markdown": [
       "1. 138\n",
       "2. 8\n",
       "\n",
       "\n"
      ],
      "text/plain": [
       "[1] 138   8"
      ]
     },
     "metadata": {},
     "output_type": "display_data"
    },
    {
     "data": {
      "text/html": [
       "<style>\n",
       ".list-inline {list-style: none; margin:0; padding: 0}\n",
       ".list-inline>li {display: inline-block}\n",
       ".list-inline>li:not(:last-child)::after {content: \"\\00b7\"; padding: 0 .5ex}\n",
       "</style>\n",
       "<ol class=list-inline><li>176</li><li>8</li></ol>\n"
      ],
      "text/latex": [
       "\\begin{enumerate*}\n",
       "\\item 176\n",
       "\\item 8\n",
       "\\end{enumerate*}\n"
      ],
      "text/markdown": [
       "1. 176\n",
       "2. 8\n",
       "\n",
       "\n"
      ],
      "text/plain": [
       "[1] 176   8"
      ]
     },
     "metadata": {},
     "output_type": "display_data"
    }
   ],
   "source": [
    "dim(subset(male_hormone,avg_logFC>0 & p_val_adjust<0.05))\n",
    "dim(subset(female_hormone,avg_logFC>0 & p_val_adjust<0.05))"
   ]
  },
  {
   "cell_type": "code",
   "execution_count": 11,
   "metadata": {},
   "outputs": [
    {
     "data": {
      "text/html": [
       "<style>\n",
       ".list-inline {list-style: none; margin:0; padding: 0}\n",
       ".list-inline>li {display: inline-block}\n",
       ".list-inline>li:not(:last-child)::after {content: \"\\00b7\"; padding: 0 .5ex}\n",
       "</style>\n",
       "<ol class=list-inline><li>'Pgr'</li><li>'Ptp4a1'</li><li>'Nts'</li><li>'Parm1'</li><li>'Prkce'</li><li>'Ogfrl1'</li><li>'Irs4'</li><li>'Nos1'</li><li>'Maged1'</li><li>'Grik1'</li><li>'Tmem35a'</li><li>'Id4'</li><li>'Hpcal1'</li><li>'Gfra1'</li><li>'Sez6l'</li><li>'Itm2c'</li><li>'Irs2'</li><li>'Ctnna2'</li><li>'Pdzrn4'</li><li>'Apoc3'</li><li>'Pak3'</li><li>'Sv2c'</li><li>'Nexmif'</li><li>'Nrip1'</li><li>'mt-Co2'</li><li>'Ets2'</li><li>'Fstl5'</li><li>'Drp2'</li><li>'Sytl4'</li><li>'Socs2'</li><li>'Kcnk2'</li><li>'Brinp2'</li><li>'Hs3st5'</li><li>'Scd2'</li><li>'Stk19'</li><li>'Eif1b'</li><li>'Col25a1'</li><li>'Chst11'</li><li>'mt-Nd3'</li><li>'Gm16485'</li><li>'Pdcd4'</li><li>'Ywhah'</li><li>'Nrp1'</li><li>'Scml4'</li><li>'Nxn'</li><li>'Unc5b'</li><li>'Slitrk6'</li></ol>\n"
      ],
      "text/latex": [
       "\\begin{enumerate*}\n",
       "\\item 'Pgr'\n",
       "\\item 'Ptp4a1'\n",
       "\\item 'Nts'\n",
       "\\item 'Parm1'\n",
       "\\item 'Prkce'\n",
       "\\item 'Ogfrl1'\n",
       "\\item 'Irs4'\n",
       "\\item 'Nos1'\n",
       "\\item 'Maged1'\n",
       "\\item 'Grik1'\n",
       "\\item 'Tmem35a'\n",
       "\\item 'Id4'\n",
       "\\item 'Hpcal1'\n",
       "\\item 'Gfra1'\n",
       "\\item 'Sez6l'\n",
       "\\item 'Itm2c'\n",
       "\\item 'Irs2'\n",
       "\\item 'Ctnna2'\n",
       "\\item 'Pdzrn4'\n",
       "\\item 'Apoc3'\n",
       "\\item 'Pak3'\n",
       "\\item 'Sv2c'\n",
       "\\item 'Nexmif'\n",
       "\\item 'Nrip1'\n",
       "\\item 'mt-Co2'\n",
       "\\item 'Ets2'\n",
       "\\item 'Fstl5'\n",
       "\\item 'Drp2'\n",
       "\\item 'Sytl4'\n",
       "\\item 'Socs2'\n",
       "\\item 'Kcnk2'\n",
       "\\item 'Brinp2'\n",
       "\\item 'Hs3st5'\n",
       "\\item 'Scd2'\n",
       "\\item 'Stk19'\n",
       "\\item 'Eif1b'\n",
       "\\item 'Col25a1'\n",
       "\\item 'Chst11'\n",
       "\\item 'mt-Nd3'\n",
       "\\item 'Gm16485'\n",
       "\\item 'Pdcd4'\n",
       "\\item 'Ywhah'\n",
       "\\item 'Nrp1'\n",
       "\\item 'Scml4'\n",
       "\\item 'Nxn'\n",
       "\\item 'Unc5b'\n",
       "\\item 'Slitrk6'\n",
       "\\end{enumerate*}\n"
      ],
      "text/markdown": [
       "1. 'Pgr'\n",
       "2. 'Ptp4a1'\n",
       "3. 'Nts'\n",
       "4. 'Parm1'\n",
       "5. 'Prkce'\n",
       "6. 'Ogfrl1'\n",
       "7. 'Irs4'\n",
       "8. 'Nos1'\n",
       "9. 'Maged1'\n",
       "10. 'Grik1'\n",
       "11. 'Tmem35a'\n",
       "12. 'Id4'\n",
       "13. 'Hpcal1'\n",
       "14. 'Gfra1'\n",
       "15. 'Sez6l'\n",
       "16. 'Itm2c'\n",
       "17. 'Irs2'\n",
       "18. 'Ctnna2'\n",
       "19. 'Pdzrn4'\n",
       "20. 'Apoc3'\n",
       "21. 'Pak3'\n",
       "22. 'Sv2c'\n",
       "23. 'Nexmif'\n",
       "24. 'Nrip1'\n",
       "25. 'mt-Co2'\n",
       "26. 'Ets2'\n",
       "27. 'Fstl5'\n",
       "28. 'Drp2'\n",
       "29. 'Sytl4'\n",
       "30. 'Socs2'\n",
       "31. 'Kcnk2'\n",
       "32. 'Brinp2'\n",
       "33. 'Hs3st5'\n",
       "34. 'Scd2'\n",
       "35. 'Stk19'\n",
       "36. 'Eif1b'\n",
       "37. 'Col25a1'\n",
       "38. 'Chst11'\n",
       "39. 'mt-Nd3'\n",
       "40. 'Gm16485'\n",
       "41. 'Pdcd4'\n",
       "42. 'Ywhah'\n",
       "43. 'Nrp1'\n",
       "44. 'Scml4'\n",
       "45. 'Nxn'\n",
       "46. 'Unc5b'\n",
       "47. 'Slitrk6'\n",
       "\n",
       "\n"
      ],
      "text/plain": [
       " [1] \"Pgr\"     \"Ptp4a1\"  \"Nts\"     \"Parm1\"   \"Prkce\"   \"Ogfrl1\"  \"Irs4\"   \n",
       " [8] \"Nos1\"    \"Maged1\"  \"Grik1\"   \"Tmem35a\" \"Id4\"     \"Hpcal1\"  \"Gfra1\"  \n",
       "[15] \"Sez6l\"   \"Itm2c\"   \"Irs2\"    \"Ctnna2\"  \"Pdzrn4\"  \"Apoc3\"   \"Pak3\"   \n",
       "[22] \"Sv2c\"    \"Nexmif\"  \"Nrip1\"   \"mt-Co2\"  \"Ets2\"    \"Fstl5\"   \"Drp2\"   \n",
       "[29] \"Sytl4\"   \"Socs2\"   \"Kcnk2\"   \"Brinp2\"  \"Hs3st5\"  \"Scd2\"    \"Stk19\"  \n",
       "[36] \"Eif1b\"   \"Col25a1\" \"Chst11\"  \"mt-Nd3\"  \"Gm16485\" \"Pdcd4\"   \"Ywhah\"  \n",
       "[43] \"Nrp1\"    \"Scml4\"   \"Nxn\"     \"Unc5b\"   \"Slitrk6\""
      ]
     },
     "metadata": {},
     "output_type": "display_data"
    },
    {
     "data": {
      "text/html": [
       "47"
      ],
      "text/latex": [
       "47"
      ],
      "text/markdown": [
       "47"
      ],
      "text/plain": [
       "[1] 47"
      ]
     },
     "metadata": {},
     "output_type": "display_data"
    }
   ],
   "source": [
    "common\n",
    "length(common)"
   ]
  },
  {
   "cell_type": "code",
   "execution_count": 45,
   "metadata": {},
   "outputs": [],
   "source": [
    "color<-numeric()\n",
    "size<-numeric()\n",
    "for(i in 1:dim(male_hormone)[1]){\n",
    "    if(male_hormone$avg_logFC[i]>0 & male_hormone$p_val_adjust[i]<0.05 & rownames(male_hormone)[i] %in% common){\n",
    "        color[i]<-\"grey\"\n",
    "        size[i]<-3\n",
    "    }else if(male_hormone$avg_logFC[i]>0 & male_hormone$p_val_adjust[i]<0.05 & !rownames(male_hormone)[i] %in% common){\n",
    "        color[i]<-\"darkblue\"\n",
    "        size[i]<-3\n",
    "    }else{\n",
    "       color[i]<-\"black\"\n",
    "        size[i]<-1\n",
    "    }\n",
    "}\n",
    "male_hormone$color<-color\n",
    "male_hormone$size<-size"
   ]
  },
  {
   "cell_type": "code",
   "execution_count": 53,
   "metadata": {
    "scrolled": true
   },
   "outputs": [],
   "source": [
    "color<-numeric()\n",
    "size<-numeric()\n",
    "for(i in 1:dim(female_hormone)[1]){\n",
    "    if(female_hormone$avg_logFC[i]>0 & female_hormone$p_val_adjust[i]<0.05 & rownames(female_hormone)[i] %in% common){\n",
    "        color[i]<-\"grey\"\n",
    "        size[i]<-3\n",
    "    }else if(female_hormone$avg_logFC[i]>0 & female_hormone$p_val_adjust[i]<0.05 & !rownames(female_hormone)[i] %in% common){\n",
    "        color[i]<-\"salmon\"\n",
    "        size[i]<-3\n",
    "    }else{\n",
    "       color[i]<-\"black\"\n",
    "        size[i]<-1\n",
    "    }\n",
    "}\n",
    "female_hormone$color<-color\n",
    "female_hormone$size<-size"
   ]
  },
  {
   "cell_type": "code",
   "execution_count": 46,
   "metadata": {},
   "outputs": [],
   "source": [
    "male<-subset(male_hormone,avg_logFC>0)"
   ]
  },
  {
   "cell_type": "code",
   "execution_count": 48,
   "metadata": {},
   "outputs": [
    {
     "data": {
      "image/png": "[encoded data removed]",
      "text/plain": [
       "plot without title"
      ]
     },
     "metadata": {
      "image/png": {
       "height": 420,
       "width": 420
      },
      "text/plain": {
       "height": 420,
       "width": 420
      }
     },
     "output_type": "display_data"
    }
   ],
   "source": [
    "ggplot(male,aes(x=-rank,y=avg_logFC),fill=male$color)+geom_point(size=male$size,color=male$color) +xlab(\"Rank\")+ylab(\"log FC AM vs Cast\")+theme(axis.text.x=element_blank(),axis.text.y=element_text(size=20, hjust = 1,color=\"black\"),axis.title.y=element_text(size=25,face=\"bold\"),axis.title.x=element_text(size=15,face=\"bold\"),plot.title = element_text(size=15),panel.grid.major = element_blank(), panel.grid.minor = element_blank(),\n",
    "panel.background = element_blank(),axis.line = element_line(colour = \"black\",size=0.5),axis.ticks.x=element_blank(),axis.ticks.length=unit(.2, \"cm\"),axis.ticks = element_line(size = 0.5), plot.margin = margin(0, 28, 0, 0))+\n",
    "ylim(0,0.8)#+xlim(-1,dim(male)[1]+1)\n",
    "ggsave(file=\"/media/garret/New Volume/scRNAseq_data/Koichi/V3_analysis/MPOA/MPOA_integrated/log/Neurons/DEG/Esr1_3/dimorphic/AM genes_VgatEsr1_vs Cast_blue only grey both_Fig3.pdf\",width=5,height=7,paper=\"letter\")"
   ]
  },
  {
   "cell_type": "code",
   "execution_count": 87,
   "metadata": {},
   "outputs": [],
   "source": [
    "write.xlsx2(subset(male, p_val_adjust<0.05),file=(\"/media/garret/New Volume/scRNAseq_data/Koichi/V3_analysis/MPOA/MPOA_integrated/log/Neurons/DEG/Esr1_3/dimorphic/male genes.xlsx\"))"
   ]
  },
  {
   "cell_type": "code",
   "execution_count": 54,
   "metadata": {},
   "outputs": [],
   "source": [
    "female<-subset(female_hormone,avg_logFC>0)"
   ]
  },
  {
   "cell_type": "code",
   "execution_count": 55,
   "metadata": {},
   "outputs": [
    {
     "data": {
      "image/png": "[encoded data removed]",
      "text/plain": [
       "plot without title"
      ]
     },
     "metadata": {
      "image/png": {
       "height": 420,
       "width": 420
      },
      "text/plain": {
       "height": 420,
       "width": 420
      }
     },
     "output_type": "display_data"
    }
   ],
   "source": [
    "ggplot(female,aes(x=-rank,y=avg_logFC),fill=female$color)+geom_point(size=female$size,color=female$color) +xlab(\"Rank\")+ylab(\"log FC AF vs OVX\")+theme(axis.text.x=element_blank(),axis.text.y=element_text(size=20, hjust = 1,color=\"black\"),axis.title.y=element_text(size=25,face=\"bold\"),axis.title.x=element_text(size=15,face=\"bold\"),plot.title = element_text(size=15),panel.grid.major = element_blank(), panel.grid.minor = element_blank(),\n",
    "panel.background = element_blank(),axis.line = element_line(colour = \"black\",size=0.5),axis.ticks.x=element_blank(),axis.ticks.length=unit(.2, \"cm\"),axis.ticks = element_line(size = 0.5), plot.margin = margin(0, 28, 0, 0))+ylim(0,1)#+xlim(-1,dim(male)[1]+1)\n",
    "ggsave(file=\"/media/garret/New Volume/scRNAseq_data/Koichi/V3_analysis/MPOA/MPOA_integrated/log/Neurons/DEG/Esr1_3/dimorphic/AF genes_VgatEsr1_vs OVX_salmon only grey both_Fig3.pdf\",width=5,height=7)"
   ]
  },
  {
   "cell_type": "code",
   "execution_count": 90,
   "metadata": {},
   "outputs": [],
   "source": [
    "write.xlsx2(subset(female, p_val_adjust<0.05),file=(\"/media/garret/New Volume/scRNAseq_data/Koichi/V3_analysis/MPOA/MPOA_integrated/log/Neurons/DEG/Esr1_3/dimorphic/female genes.xlsx\"))"
   ]
  }
 ],
 "metadata": {
  "kernelspec": {
   "display_name": "R",
   "language": "R",
   "name": "ir"
  },
  "language_info": {
   "codemirror_mode": "r",
   "file_extension": ".r",
   "mimetype": "text/x-r-source",
   "name": "R",
   "pygments_lexer": "r",
   "version": "3.6.3"
  }
 },
 "nbformat": 4,
 "nbformat_minor": 2
}
