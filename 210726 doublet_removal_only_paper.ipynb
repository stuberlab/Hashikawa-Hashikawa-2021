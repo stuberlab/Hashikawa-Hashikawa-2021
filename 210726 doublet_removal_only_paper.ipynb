{
 "cells": [
  {
   "cell_type": "markdown",
   "metadata": {},
   "source": [
    "# doublet cleaning"
   ]
  },
  {
   "cell_type": "code",
   "execution_count": 10,
   "metadata": {},
   "outputs": [
    {
     "data": {
      "text/html": [
       "<style> .container { width:95% !important; } </style>"
      ]
     },
     "metadata": {},
     "output_type": "display_data"
    }
   ],
   "source": [
    "library(Seurat)\n",
    "library(dplyr)\n",
    "library(magrittr)\n",
    "IRdisplay::display_html(\"<style> .container { width:95% !important; } </style>\")\n",
    "library(\"xlsx\")\n",
    "library(\"DoubletDecon\")\n",
    "#library(mgsa)"
   ]
  },
  {
   "cell_type": "code",
   "execution_count": 2,
   "metadata": {
    "collapsed": true
   },
   "outputs": [
    {
     "name": "stderr",
     "output_type": "stream",
     "text": [
      "Regressing out nCount_RNA, percent.mito\n",
      "Scaling data matrix\n",
      "Regressing out nCount_RNA, percent.mito\n",
      "Scaling data matrix\n",
      "Regressing out nCount_RNA, percent.mito\n",
      "Scaling data matrix\n",
      "Regressing out nCount_RNA, percent.mito\n",
      "Scaling data matrix\n",
      "Regressing out nCount_RNA, percent.mito\n",
      "Scaling data matrix\n",
      "Regressing out nCount_RNA, percent.mito\n",
      "Scaling data matrix\n",
      "Regressing out nCount_RNA, percent.mito\n",
      "Scaling data matrix\n",
      "Regressing out nCount_RNA, percent.mito\n",
      "Scaling data matrix\n",
      "Computing nearest neighbor graph\n",
      "Computing SNN\n"
     ]
    },
    {
     "name": "stdout",
     "output_type": "stream",
     "text": [
      "Modularity Optimizer version 1.3.0 by Ludo Waltman and Nees Jan van Eck\n",
      "\n",
      "Number of nodes: 7982\n",
      "Number of edges: 307282\n",
      "\n",
      "Running Louvain algorithm...\n",
      "Maximum modularity in 10 random starts: 0.9100\n",
      "Number of communities: 24\n",
      "Elapsed time: 0 seconds\n"
     ]
    },
    {
     "name": "stderr",
     "output_type": "stream",
     "text": [
      "Computing nearest neighbor graph\n",
      "Computing SNN\n"
     ]
    },
    {
     "name": "stdout",
     "output_type": "stream",
     "text": [
      "Modularity Optimizer version 1.3.0 by Ludo Waltman and Nees Jan van Eck\n",
      "\n",
      "Number of nodes: 8819\n",
      "Number of edges: 334403\n",
      "\n",
      "Running Louvain algorithm...\n",
      "Maximum modularity in 10 random starts: 0.8900\n",
      "Number of communities: 23\n",
      "Elapsed time: 0 seconds\n"
     ]
    },
    {
     "name": "stderr",
     "output_type": "stream",
     "text": [
      "Computing nearest neighbor graph\n",
      "Computing SNN\n"
     ]
    },
    {
     "name": "stdout",
     "output_type": "stream",
     "text": [
      "Modularity Optimizer version 1.3.0 by Ludo Waltman and Nees Jan van Eck\n",
      "\n",
      "Number of nodes: 6429\n",
      "Number of edges: 233048\n",
      "\n",
      "Running Louvain algorithm...\n",
      "Maximum modularity in 10 random starts: 0.9055\n",
      "Number of communities: 22\n",
      "Elapsed time: 0 seconds\n"
     ]
    },
    {
     "name": "stderr",
     "output_type": "stream",
     "text": [
      "Computing nearest neighbor graph\n",
      "Computing SNN\n"
     ]
    },
    {
     "name": "stdout",
     "output_type": "stream",
     "text": [
      "Modularity Optimizer version 1.3.0 by Ludo Waltman and Nees Jan van Eck\n",
      "\n",
      "Number of nodes: 8808\n",
      "Number of edges: 337419\n",
      "\n",
      "Running Louvain algorithm...\n",
      "Maximum modularity in 10 random starts: 0.8903\n",
      "Number of communities: 27\n",
      "Elapsed time: 0 seconds\n"
     ]
    },
    {
     "name": "stderr",
     "output_type": "stream",
     "text": [
      "Computing nearest neighbor graph\n",
      "Computing SNN\n"
     ]
    },
    {
     "name": "stdout",
     "output_type": "stream",
     "text": [
      "Modularity Optimizer version 1.3.0 by Ludo Waltman and Nees Jan van Eck\n",
      "\n",
      "Number of nodes: 7245\n",
      "Number of edges: 279462\n",
      "\n",
      "Running Louvain algorithm...\n",
      "Maximum modularity in 10 random starts: 0.9104\n",
      "Number of communities: 25\n",
      "Elapsed time: 0 seconds\n"
     ]
    },
    {
     "name": "stderr",
     "output_type": "stream",
     "text": [
      "Computing nearest neighbor graph\n",
      "Computing SNN\n"
     ]
    },
    {
     "name": "stdout",
     "output_type": "stream",
     "text": [
      "Modularity Optimizer version 1.3.0 by Ludo Waltman and Nees Jan van Eck\n",
      "\n",
      "Number of nodes: 8587\n",
      "Number of edges: 349190\n",
      "\n",
      "Running Louvain algorithm...\n",
      "Maximum modularity in 10 random starts: 0.8827\n",
      "Number of communities: 22\n",
      "Elapsed time: 0 seconds\n"
     ]
    },
    {
     "name": "stderr",
     "output_type": "stream",
     "text": [
      "Computing nearest neighbor graph\n",
      "Computing SNN\n"
     ]
    },
    {
     "name": "stdout",
     "output_type": "stream",
     "text": [
      "Modularity Optimizer version 1.3.0 by Ludo Waltman and Nees Jan van Eck\n",
      "\n",
      "Number of nodes: 6298\n",
      "Number of edges: 244952\n",
      "\n",
      "Running Louvain algorithm...\n",
      "Maximum modularity in 10 random starts: 0.8814\n",
      "Number of communities: 24\n",
      "Elapsed time: 0 seconds\n"
     ]
    },
    {
     "name": "stderr",
     "output_type": "stream",
     "text": [
      "Computing nearest neighbor graph\n",
      "Computing SNN\n"
     ]
    },
    {
     "name": "stdout",
     "output_type": "stream",
     "text": [
      "Modularity Optimizer version 1.3.0 by Ludo Waltman and Nees Jan van Eck\n",
      "\n",
      "Number of nodes: 7381\n",
      "Number of edges: 277356\n",
      "\n",
      "Running Louvain algorithm...\n",
      "Maximum modularity in 10 random starts: 0.8898\n",
      "Number of communities: 26\n",
      "Elapsed time: 0 seconds\n"
     ]
    }
   ],
   "source": [
    "P23M.data <-Read10X(data.dir = \"/media/garret/New Volume/scRNAseq_data/backupv3/v3/analysis_v3_P23M2/outs/raw_feature_bc_matrix\")\n",
    "colnames(P23M.data) = paste0(colnames(P23M.data),\"P23M\")\n",
    "P23M<- CreateSeuratObject(counts = P23M.data, min.cells = 3, min.features = 200, project = \"10X_MPOA\")\n",
    "P23M@meta.data$stim <- \"P23M\"\n",
    "P35M.data <-Read10X(data.dir = \"/media/garret/New Volume/scRNAseq_data/backupv3/v3/2018-10-17_HMKVLBGX7_180928_P35_M_MPOA_E2_CRV302_mm10v3_P35M/outs/raw_feature_bc_matrix\")\n",
    "colnames(P35M.data) = paste0(colnames(P35M.data),\"P35M\")\n",
    "P35M<- CreateSeuratObject(counts = P35M.data, min.cells = 3, min.features = 200, project = \"10X_MPOA\")\n",
    "P35M@meta.data$stim <- \"P35M\"\n",
    "AM.data <-Read10X(data.dir = \"/media/garret/New Volume/scRNAseq_data/backupv3/v3/2018-08-10_HG7CTBGX7_mp0A_H1_CRV302_mm10v3_AM/outs/raw_feature_bc_matrix\")\n",
    "colnames(AM.data) = paste0(colnames(AM.data),\"AM\")\n",
    "AM<- CreateSeuratObject(counts = AM.data, min.cells = 3, min.features = 200, project = \"10X_MPOA\")\n",
    "AM@meta.data$stim <- \"AM\"\n",
    "Cast.data <-Read10X(data.dir = \"/media/garret/New Volume/scRNAseq_data/backupv3/v3/2018-10-18_HMKWGBGX7_CM_E4_CRV302_mm10v3_Cast/outs/raw_feature_bc_matrix\")\n",
    "colnames(Cast.data) = paste0(colnames(Cast.data),\"Cast\")\n",
    "Cast<- CreateSeuratObject(counts = Cast.data, min.cells = 3, min.features = 200, project = \"10X_MPOA\")\n",
    "Cast@meta.data$stim <- \"Cast\"\n",
    "P23F.data <-Read10X(data.dir = \"/media/garret/New Volume/scRNAseq_data/backupv3/v3/2018-09-18_HHCHJBGX7_F_A2_vs_mm10v3_CRV302_P23F/outs/raw_feature_bc_matrix\")\n",
    "colnames(P23F.data) = paste0(colnames(P23F.data),\"P23F\")\n",
    "P23F<- CreateSeuratObject(counts = P23F.data, min.cells = 3, min.features = 200, project = \"10X_MPOA\")\n",
    "P23F@meta.data$stim <- \"P23F\"\n",
    "P35F.data <-Read10X(data.dir = \"/media/garret/New Volume/scRNAseq_data/backupv3/v3/2018-10-17_HMKVLBGX7_180928_P35_F_POA_E1_CRV302_mm10v3_P35F/outs/raw_feature_bc_matrix\")\n",
    "colnames(P35F.data) = paste0(colnames(P35F.data),\"P35F\")\n",
    "P35F<- CreateSeuratObject(counts = P35F.data, min.cells = 3, min.features = 200, project = \"10X_MPOA\")\n",
    "P35F@meta.data$stim <- \"P35F\"\n",
    "AF.data <-Read10X(data.dir = \"/media/garret/New Volume/scRNAseq_data/backupv3/v3/2018-10-18_HMLGCBGX7_F2_E5_CRV302_mm10v3_AF/outs/raw_feature_bc_matrix\")\n",
    "colnames(AF.data) = paste0(colnames(AF.data),\"AF\")\n",
    "AF<- CreateSeuratObject(counts = AF.data, min.cells = 3, min.features = 200, project = \"10X_MPOA\")\n",
    "AF@meta.data$stim <- \"AF\"\n",
    "OVX.data <-Read10X(data.dir = \"/media/garret/New Volume/scRNAseq_data/backupv3/v3/2018-10-18_HMKWGBGX7_OF_E3_CRV302_mm10v3_OVX/outs/raw_feature_bc_matrix\")\n",
    "colnames(OVX.data) = paste0(colnames(OVX.data),\"OVX\")\n",
    "OVX<- CreateSeuratObject(counts = OVX.data, min.cells = 3, min.features = 200, project = \"10X_MPOA\")\n",
    "OVX@meta.data$stim <- \"OVX\"\n",
    "\n",
    "mito.features <- grep(pattern = \"^mt-\", x = rownames(x = P23M), value = TRUE)\n",
    "percent.mito <- Matrix::colSums(x = GetAssayData(object = P23M, slot = 'counts')[mito.features, ]) / Matrix::colSums(x = GetAssayData(object = P23M, slot = 'counts'))\n",
    "P23M[['percent.mito']] <- percent.mito\n",
    "mito.features <- grep(pattern = \"^mt-\", x = rownames(x = P35M), value = TRUE)\n",
    "percent.mito <- Matrix::colSums(x = GetAssayData(object = P35M, slot = 'counts')[mito.features, ]) / Matrix::colSums(x = GetAssayData(object = P35M, slot = 'counts'))\n",
    "P35M[['percent.mito']] <- percent.mito\n",
    "mito.features <- grep(pattern = \"^mt-\", x = rownames(x = AM), value = TRUE)\n",
    "percent.mito <- Matrix::colSums(x = GetAssayData(object = AM, slot = 'counts')[mito.features, ]) / Matrix::colSums(x = GetAssayData(object = AM, slot = 'counts'))\n",
    "AM[['percent.mito']] <- percent.mito\n",
    "mito.features <- grep(pattern = \"^mt-\", x = rownames(x = Cast), value = TRUE)\n",
    "percent.mito <- Matrix::colSums(x = GetAssayData(object = Cast, slot = 'counts')[mito.features, ]) / Matrix::colSums(x = GetAssayData(object = Cast, slot = 'counts'))\n",
    "Cast[['percent.mito']] <- percent.mito\n",
    "mito.features <- grep(pattern = \"^mt-\", x = rownames(x = P23F), value = TRUE)\n",
    "percent.mito <- Matrix::colSums(x = GetAssayData(object = P23F, slot = 'counts')[mito.features, ]) / Matrix::colSums(x = GetAssayData(object = P23F, slot = 'counts'))\n",
    "P23F[['percent.mito']] <- percent.mito\n",
    "mito.features <- grep(pattern = \"^mt-\", x = rownames(x = P35F), value = TRUE)\n",
    "percent.mito <- Matrix::colSums(x = GetAssayData(object = P35F, slot = 'counts')[mito.features, ]) / Matrix::colSums(x = GetAssayData(object = P35F, slot = 'counts'))\n",
    "P35F[['percent.mito']] <- percent.mito\n",
    "mito.features <- grep(pattern = \"^mt-\", x = rownames(x = AF), value = TRUE)\n",
    "percent.mito <- Matrix::colSums(x = GetAssayData(object = AF, slot = 'counts')[mito.features, ]) / Matrix::colSums(x = GetAssayData(object = AF, slot = 'counts'))\n",
    "AF[['percent.mito']] <- percent.mito\n",
    "mito.features <- grep(pattern = \"^mt-\", x = rownames(x = OVX), value = TRUE)\n",
    "percent.mito <- Matrix::colSums(x = GetAssayData(object = OVX, slot = 'counts')[mito.features, ]) / Matrix::colSums(x = GetAssayData(object = OVX, slot = 'counts'))\n",
    "OVX[['percent.mito']] <- percent.mito\n",
    "\n",
    "P23M <- subset(x = P23M, subset = nCount_RNA > 700 & nCount_RNA < 15000 & percent.mito < 0.20)\n",
    "P35M <- subset(x = P35M, subset = nCount_RNA > 700 & nCount_RNA < 15000 & percent.mito < 0.20)\n",
    "AM <- subset(x = AM, subset = nCount_RNA > 700 & nCount_RNA < 15000 & percent.mito < 0.20)\n",
    "Cast <- subset(x = Cast, subset = nCount_RNA > 700 & nCount_RNA < 15000 & percent.mito < 0.20)\n",
    "P23F <- subset(x = P23F, subset = nCount_RNA > 700 & nCount_RNA < 15000 & percent.mito < 0.20)\n",
    "P35F <- subset(x = P35F, subset = nCount_RNA > 700 & nCount_RNA < 15000 & percent.mito < 0.20)\n",
    "AF <- subset(x = AF, subset = nCount_RNA > 700 & nCount_RNA < 15000 & percent.mito < 0.20)\n",
    "OVX <- subset(x = OVX, subset = nCount_RNA > 700 & nCount_RNA < 15000 & percent.mito < 0.20)\n",
    "\n",
    "P23M<- NormalizeData(object = P23M,verbose = FALSE) \n",
    "P35M<- NormalizeData(object = P35M,verbose = FALSE) \n",
    "AM<- NormalizeData(object = AM,verbose = FALSE)\n",
    "Cast<- NormalizeData(object = Cast,verbose = FALSE)\n",
    "\n",
    "P23F<- NormalizeData(object = P23F,verbose = FALSE) \n",
    "P35F<- NormalizeData(object = P35F,verbose = FALSE) \n",
    "AF<- NormalizeData(object = AF,verbose = FALSE)\n",
    "OVX<- NormalizeData(object = OVX,verbose = FALSE)\n",
    "\n",
    "P23M<- FindVariableFeatures(object =P23M,selection.method = \"vst\", nfeatures = 2000, verbose = FALSE)\n",
    "P35M<- FindVariableFeatures(object =P35M,selection.method = \"vst\", nfeatures = 2000, verbose = FALSE)\n",
    "AM<- FindVariableFeatures(object =AM,selection.method = \"vst\", nfeatures = 2000, verbose = FALSE)\n",
    "Cast<- FindVariableFeatures(object =Cast,selection.method = \"vst\", nfeatures = 2000, verbose = FALSE)\n",
    "P23F<- FindVariableFeatures(object =P23F,selection.method = \"vst\", nfeatures = 2000, verbose = FALSE)\n",
    "P35F<- FindVariableFeatures(object =P35F,selection.method = \"vst\", nfeatures = 2000, verbose = FALSE)\n",
    "AF<- FindVariableFeatures(object =AF,selection.method = \"vst\", nfeatures = 2000, verbose = FALSE)\n",
    "OVX<- FindVariableFeatures(object =OVX,selection.method = \"vst\", nfeatures = 2000, verbose = FALSE)\n",
    "\n",
    "P23M<- ScaleData(object = P23M, features = rownames(x =P23M), vars.to.regress = c(\"nCount_RNA\", \"percent.mito\"))\n",
    "P35M<- ScaleData(object = P35M, features = rownames(x =P35M), vars.to.regress = c(\"nCount_RNA\", \"percent.mito\"))\n",
    "AM<- ScaleData(object =AM, features = rownames(x =AM), vars.to.regress = c(\"nCount_RNA\", \"percent.mito\"))\n",
    "Cast<- ScaleData(object =Cast, features = rownames(x =Cast), vars.to.regress = c(\"nCount_RNA\", \"percent.mito\"))\n",
    "P23F<- ScaleData(object = P23F, features = rownames(x =P23F), vars.to.regress = c(\"nCount_RNA\", \"percent.mito\"))\n",
    "P35F<- ScaleData(object = P35F, features = rownames(x =P35F), vars.to.regress = c(\"nCount_RNA\", \"percent.mito\"))\n",
    "AF<- ScaleData(object = AF, features = rownames(x =AF), vars.to.regress = c(\"nCount_RNA\", \"percent.mito\"))\n",
    "OVX<- ScaleData(object = OVX, features = rownames(x =OVX), vars.to.regress = c(\"nCount_RNA\", \"percent.mito\"))\n",
    "\n",
    "\n",
    "#P23M<- SCTransform(object = P23M, vars.to.regress = \"percent.mito\",verbose = FALSE,return.only.var.genes = FALSE) \n",
    "#P35M<- SCTransform(object = P35M, vars.to.regress = \"percent.mito\",verbose = FALSE,return.only.var.genes = FALSE) \n",
    "#AM<- SCTransform(object = AM, vars.to.regress = \"percent.mito\",verbose = FALSE,return.only.var.genes = FALSE) \n",
    "#Cast<- SCTransform(object = Cast, vars.to.regress = \"percent.mito\",verbose = FALSE,return.only.var.genes = FALSE) \n",
    "#P23F<- SCTransform(object =P23F, vars.to.regress = \"percent.mito\",verbose = FALSE,return.only.var.genes = FALSE) \n",
    "#P35F<- SCTransform(object = P35F, vars.to.regress = \"percent.mito\",verbose = FALSE,return.only.var.genes = FALSE) \n",
    "#AF<- SCTransform(object = AF, vars.to.regress = \"percent.mito\",verbose = FALSE,return.only.var.genes = FALSE) \n",
    "#OVX<- SCTransform(object = OVX, vars.to.regress = \"percent.mito\",verbose = FALSE,return.only.var.genes = FALSE) \n",
    "\n",
    "P23M<- RunPCA(object = P23M, features = VariableFeatures(object =P23M), verbose = FALSE)\n",
    "P35M<- RunPCA(object = P35M, features = VariableFeatures(object =P35M), verbose = FALSE)\n",
    "AM<- RunPCA(object = AM, features = VariableFeatures(object =AM), verbose = FALSE)\n",
    "Cast<- RunPCA(object = Cast, features = VariableFeatures(object =Cast), verbose = FALSE)\n",
    "P23F<- RunPCA(object = P23F, features = VariableFeatures(object =P23F), verbose = FALSE)\n",
    "P35F<- RunPCA(object = P35F, features = VariableFeatures(object =P35F), verbose = FALSE)\n",
    "AF<- RunPCA(object = AF, features = VariableFeatures(object =AF), verbose = FALSE)\n",
    "OVX<- RunPCA(object = OVX, features = VariableFeatures(object =OVX), verbose = FALSE)\n",
    "\n",
    "\n",
    "P23M<- FindNeighbors(object =P23M, dims = 1:30)\n",
    "P23M<- FindClusters(object = P23M, resolution = 0.8)\n",
    "P35M<- FindNeighbors(object =P35M, dims = 1:30)\n",
    "P35M <- FindClusters(object = P35M, resolution = 0.8)\n",
    "AM<- FindNeighbors(object =AM, dims = 1:30)\n",
    "AM<- FindClusters(object = AM, resolution = 0.8)\n",
    "Cast<- FindNeighbors(object =Cast, dims = 1:30)\n",
    "Cast <- FindClusters(object = Cast, resolution = 0.8)\n",
    "P23F<- FindNeighbors(object =P23F, dims = 1:30)\n",
    "P23F <- FindClusters(object = P23F, resolution = 0.8)\n",
    "P35F<- FindNeighbors(object =P35F, dims = 1:30)\n",
    "P35F <- FindClusters(object = P35F, resolution = 0.8)\n",
    "AF<- FindNeighbors(object =AF, dims = 1:30)\n",
    "AF<- FindClusters(object = AF, resolution = 0.8)\n",
    "OVX<- FindNeighbors(object =OVX, dims = 1:30)\n",
    "OVX<- FindClusters(object = OVX, resolution = 0.8)\n",
    "\n"
   ]
  },
  {
   "cell_type": "code",
   "execution_count": 3,
   "metadata": {},
   "outputs": [],
   "source": [
    "saveRDS(AM,file = \"/media/garret/New Volume/scRNAseq_data/Koichi/V3_analysis/MPOA/MPOA_AM/gene3000_30/AM.rds\")\n",
    "saveRDS(P35M,file = \"/media/garret/New Volume/scRNAseq_data/Koichi/V3_analysis/MPOA/MPOA_P35M/gene3000_30/P35M.rds\")\n",
    "saveRDS(P23M,file = \"/media/garret/New Volume/scRNAseq_data/Koichi/V3_analysis/MPOA/MPOA_P23M/gene3000_30/P23M.rds\")\n",
    "saveRDS(Cast,file = \"/media/garret/New Volume/scRNAseq_data/Koichi/V3_analysis/MPOA/MPOA_Cast/gene3000_30/Cast.rds\")\n",
    "saveRDS(AF,file = \"/media/garret/New Volume/scRNAseq_data/Koichi/V3_analysis/MPOA/MPOA_AF/gene3000_30/AF.rds\")\n",
    "saveRDS(P35F,file = \"/media/garret/New Volume/scRNAseq_data/Koichi/V3_analysis/MPOA/MPOA_P35F/gene3000_30/P35F.rds\")\n",
    "saveRDS(P23F,file = \"/media/garret/New Volume/scRNAseq_data/Koichi/V3_analysis/MPOA/MPOA_P23F/gene3000_30/P23F.rds\")\n",
    "saveRDS(OVX,file = \"/media/garret/New Volume/scRNAseq_data/Koichi/V3_analysis/MPOA/MPOA_OVX/gene3000_30/OVX.rds\")"
   ]
  },
  {
   "cell_type": "code",
   "execution_count": null,
   "metadata": {},
   "outputs": [],
   "source": [
    "AM<-readRDS(file = \"/media/garret/New Volume/scRNAseq_data/Koichi/V3_analysis/MPOA/MPOA_AM/gene3000_30/AM.rds\")\n",
    "P35M<-readRDS(file = \"/media/garret/New Volume/scRNAseq_data/Koichi/V3_analysis/MPOA/MPOA_P35M/gene3000_30/P35M.rds\")\n",
    "P23M<-readRDS(file = \"/media/garret/New Volume/scRNAseq_data/Koichi/V3_analysis/MPOA/MPOA_P23M/gene3000_30/P23M.rds\")\n",
    "Cast<-readRDS(file = \"/media/garret/New Volume/scRNAseq_data/Koichi/V3_analysis/MPOA/MPOA_Cast/gene3000_30/Cast.rds\")\n",
    "AF<-readRDS(file = \"/media/garret/New Volume/scRNAseq_data/Koichi/V3_analysis/MPOA/MPOA_AF/gene3000_30/AF.rds\")\n",
    "P35F<-readRDS(file = \"/media/garret/New Volume/scRNAseq_data/Koichi/V3_analysis/MPOA/MPOA_P35F/gene3000_30/P35F.rds\")\n",
    "P23F<-readRDS(file = \"/media/garret/New Volume/scRNAseq_data/Koichi/V3_analysis/MPOA/MPOA_P23F/gene3000_30/P23F.rds\")\n",
    "OVX<-readRDS(file = \"/media/garret/New Volume/scRNAseq_data/Koichi/V3_analysis/MPOA/MPOA_OVX/gene3000_30/OVX.rds\")"
   ]
  },
  {
   "cell_type": "code",
   "execution_count": null,
   "metadata": {},
   "outputs": [],
   "source": [
    "counts<-as.matrix(AM@assays$RNA@data)\n",
    "write.table(data.frame(\"GENE\"=rownames(counts),counts),file=\"/media/garret/New Volume/scRNAseq_data/Koichi/V3_analysis/MPOA/MPOA_AM/gene3000_30/doublet/counts.txt\",row.names=FALSE,sep=\"\\t\")\n",
    "\n",
    "counts<-as.matrix(P35M@assays$RNA@data)\n",
    "write.table(data.frame(\"GENE\"=rownames(counts),counts),file=\"/media/garret/New Volume/scRNAseq_data/Koichi/V3_analysis/MPOA/MPOA_P35M/gene3000_30/doublet/counts.txt\",row.names=FALSE,sep=\"\\t\")\n",
    "\n",
    "counts<-as.matrix(P23M@assays$RNA@data)\n",
    "write.table(data.frame(\"GENE\"=rownames(counts),counts),file=\"/media/garret/New Volume/scRNAseq_data/Koichi/V3_analysis/MPOA/MPOA_P23M/gene3000_30/doublet/counts.txt\",row.names=FALSE,sep=\"\\t\")\n",
    "\n",
    "counts<-as.matrix(Cast@assays$RNA@data)\n",
    "write.table(data.frame(\"GENE\"=rownames(counts),counts),file=\"/media/garret/New Volume/scRNAseq_data/Koichi/V3_analysis/MPOA/MPOA_Cast/gene3000_30/doublet/counts.txt\",row.names=FALSE,sep=\"\\t\")\n",
    "\n",
    "counts<-as.matrix(AF@assays$RNA@data)\n",
    "write.table(data.frame(\"GENE\"=rownames(counts),counts),file=\"/media/garret/New Volume/scRNAseq_data/Koichi/V3_analysis/MPOA/MPOA_AF/gene3000_30/doublet/counts.txt\",row.names=FALSE,sep=\"\\t\")\n",
    "\n",
    "counts<-as.matrix(P35F@assays$RNA@data)\n",
    "write.table(data.frame(\"GENE\"=rownames(counts),counts),file=\"/media/garret/New Volume/scRNAseq_data/Koichi/V3_analysis/MPOA/MPOA_P35F/gene3000_30/doublet/counts.txt\",row.names=FALSE,sep=\"\\t\")\n",
    "\n",
    "counts<-as.matrix(P23F@assays$RNA@data)\n",
    "write.table(data.frame(\"GENE\"=rownames(counts),counts),file=\"/media/garret/New Volume/scRNAseq_data/Koichi/V3_analysis/MPOA/MPOA_P23F/gene3000_30/doublet/counts.txt\",row.names=FALSE,sep=\"\\t\")\n",
    "\n",
    "counts<-as.matrix(OVX@assays$RNA@data)\n",
    "write.table(data.frame(\"GENE\"=rownames(counts),counts),file=\"/media/garret/New Volume/scRNAseq_data/Koichi/V3_analysis/MPOA/MPOA_OVX/gene3000_30/doublet/counts.txt\",row.names=FALSE,sep=\"\\t\")"
   ]
  },
  {
   "cell_type": "code",
   "execution_count": null,
   "metadata": {},
   "outputs": [],
   "source": [
    "markers <- FindAllMarkers(object = AM, only.pos = TRUE, min.pct = 0.25)\n",
    "top_50<-markers %>% group_by(cluster) %>% top_n(50)\n",
    "write.table(data.frame(\"test\"=as.character(rownames(top_50)),top_50),file=\"/media/garret/New Volume/scRNAseq_data/Koichi/V3_analysis/MPOA/MPOA_AM/gene3000_30/doublet/Top50Genes.txt\",row.names=FALSE,col.names=c(\"\",colnames(top_50)),sep=\"\\t\",eol=\"\\n\")\n",
    "\n",
    "markers <- FindAllMarkers(object = P35M, only.pos = TRUE, min.pct = 0.25)\n",
    "top_50<-markers %>% group_by(cluster) %>% top_n(50)\n",
    "write.table(data.frame(\"test\"=as.character(rownames(top_50)),top_50),file=\"/media/garret/New Volume/scRNAseq_data/Koichi/V3_analysis/MPOA/MPOA_P35M/gene3000_30/doublet/Top50Genes.txt\",row.names=FALSE,col.names=c(\"\",colnames(top_50)),sep=\"\\t\",eol=\"\\n\")\n",
    "\n",
    "markers <- FindAllMarkers(object = P23M, only.pos = TRUE, min.pct = 0.25)\n",
    "top_50<-markers %>% group_by(cluster) %>% top_n(50)\n",
    "write.table(data.frame(\"test\"=as.character(rownames(top_50)),top_50),file=\"/media/garret/New Volume/scRNAseq_data/Koichi/V3_analysis/MPOA/MPOA_P23M/gene3000_30/doublet/Top50Genes.txt\",row.names=FALSE,col.names=c(\"\",colnames(top_50)),sep=\"\\t\",eol=\"\\n\")\n",
    "\n",
    "markers <- FindAllMarkers(object = Cast, only.pos = TRUE, min.pct = 0.25)\n",
    "top_50<-markers %>% group_by(cluster) %>% top_n(50)\n",
    "write.table(data.frame(\"test\"=as.character(rownames(top_50)),top_50),file=\"/media/garret/New Volume/scRNAseq_data/Koichi/V3_analysis/MPOA/MPOA_Cast/gene3000_30/doublet/Top50Genes.txt\",row.names=FALSE,col.names=c(\"\",colnames(top_50)),sep=\"\\t\",eol=\"\\n\")\n",
    "\n",
    "markers <- FindAllMarkers(object = AF, only.pos = TRUE, min.pct = 0.25)\n",
    "top_50<-markers %>% group_by(cluster) %>% top_n(50)\n",
    "write.table(data.frame(\"test\"=as.character(rownames(top_50)),top_50),file=\"/media/garret/New Volume/scRNAseq_data/Koichi/V3_analysis/MPOA/MPOA_AF/gene3000_30/doublet/Top50Genes.txt\",row.names=FALSE,col.names=c(\"\",colnames(top_50)),sep=\"\\t\",eol=\"\\n\")\n",
    "\n",
    "markers <- FindAllMarkers(object = P35F, only.pos = TRUE, min.pct = 0.25)\n",
    "top_50<-markers %>% group_by(cluster) %>% top_n(50)\n",
    "write.table(data.frame(\"test\"=as.character(rownames(top_50)),top_50),file=\"/media/garret/New Volume/scRNAseq_data/Koichi/V3_analysis/MPOA/MPOA_P35F/gene3000_30/doublet/Top50Genes.txt\",row.names=FALSE,col.names=c(\"\",colnames(top_50)),sep=\"\\t\",eol=\"\\n\")\n",
    "\n",
    "markers <- FindAllMarkers(object = P23F, only.pos = TRUE, min.pct = 0.25)\n",
    "top_50<-markers %>% group_by(cluster) %>% top_n(50)\n",
    "write.table(data.frame(\"test\"=as.character(rownames(top_50)),top_50),file=\"/media/garret/New Volume/scRNAseq_data/Koichi/V3_analysis/MPOA/MPOA_P23F/gene3000_30/doublet/Top50Genes.txt\",row.names=FALSE,col.names=c(\"\",colnames(top_50)),sep=\"\\t\",eol=\"\\n\")\n",
    "\n",
    "markers <- FindAllMarkers(object = OVX, only.pos = TRUE, min.pct = 0.25)\n",
    "top_50<-markers %>% group_by(cluster) %>% top_n(50)\n",
    "write.table(data.frame(\"test\"=as.character(rownames(top_50)),top_50),file=\"/media/garret/New Volume/scRNAseq_data/Koichi/V3_analysis/MPOA/MPOA_OVX/gene3000_30/doublet/Top50Genes.txt\",row.names=FALSE,col.names=c(\"\",colnames(top_50)),sep=\"\\t\",eol=\"\\n\")"
   ]
  },
  {
   "cell_type": "code",
   "execution_count": null,
   "metadata": {},
   "outputs": [],
   "source": [
    "cluster<-Idents(object=AM)\n",
    "cluster<-as.matrix(cluster)\n",
    "cluster[,1]<-as.character(cluster[,1])\n",
    "cluster[,0]<-as.character(cluster[,0])\n",
    "cluster<-data.frame(\"x\"=rownames(cluster),cluster)\n",
    "write.table(cluster,file=\"/media/garret/New Volume/scRNAseq_data/Koichi/V3_analysis/MPOA/MPOA_AM/gene3000_30/doublet/Cluster.txt\",row.names=FALSE,col.names=c(\"\",\"x\"),sep=\"\\t\",eol=\"\\n\")\n",
    "\n",
    "cluster<-Idents(object=P35M)\n",
    "cluster<-as.matrix(cluster)\n",
    "cluster[,1]<-as.character(cluster[,1])\n",
    "cluster[,0]<-as.character(cluster[,0])\n",
    "cluster<-data.frame(\"x\"=rownames(cluster),cluster)\n",
    "write.table(cluster,file=\"/media/garret/New Volume/scRNAseq_data/Koichi/V3_analysis/MPOA/MPOA_P35M/gene3000_30/doublet/Cluster.txt\",row.names=FALSE,col.names=c(\"\",\"x\"),sep=\"\\t\",eol=\"\\n\")\n",
    "\n",
    "cluster<-Idents(object=P23M)\n",
    "cluster<-as.matrix(cluster)\n",
    "cluster[,1]<-as.character(cluster[,1])\n",
    "cluster[,0]<-as.character(cluster[,0])\n",
    "cluster<-data.frame(\"x\"=rownames(cluster),cluster)\n",
    "write.table(cluster,file=\"/media/garret/New Volume/scRNAseq_data/Koichi/V3_analysis/MPOA/MPOA_P23M/gene3000_30/doublet/Cluster.txt\",row.names=FALSE,col.names=c(\"\",\"x\"),sep=\"\\t\",eol=\"\\n\")\n",
    "\n",
    "cluster<-Idents(object=Cast)\n",
    "cluster<-as.matrix(cluster)\n",
    "cluster[,1]<-as.character(cluster[,1])\n",
    "cluster[,0]<-as.character(cluster[,0])\n",
    "cluster<-data.frame(\"x\"=rownames(cluster),cluster)\n",
    "write.table(cluster,file=\"/media/garret/New Volume/scRNAseq_data/Koichi/V3_analysis/MPOA/MPOA_Cast/gene3000_30/doublet/Cluster.txt\",row.names=FALSE,col.names=c(\"\",\"x\"),sep=\"\\t\",eol=\"\\n\")\n",
    "\n",
    "cluster<-Idents(object=AF)\n",
    "cluster<-as.matrix(cluster)\n",
    "cluster[,1]<-as.character(cluster[,1])\n",
    "cluster[,0]<-as.character(cluster[,0])\n",
    "cluster<-data.frame(\"x\"=rownames(cluster),cluster)\n",
    "write.table(cluster,file=\"/media/garret/New Volume/scRNAseq_data/Koichi/V3_analysis/MPOA/MPOA_AF/gene3000_30/doublet/Cluster.txt\",row.names=FALSE,col.names=c(\"\",\"x\"),sep=\"\\t\",eol=\"\\n\")\n",
    "\n",
    "cluster<-Idents(object=P35F)\n",
    "cluster<-as.matrix(cluster)\n",
    "cluster[,1]<-as.character(cluster[,1])\n",
    "cluster[,0]<-as.character(cluster[,0])\n",
    "cluster<-data.frame(\"x\"=rownames(cluster),cluster)\n",
    "write.table(cluster,file=\"/media/garret/New Volume/scRNAseq_data/Koichi/V3_analysis/MPOA/MPOA_P35F/gene3000_30/doublet/Cluster.txt\",row.names=FALSE,col.names=c(\"\",\"x\"),sep=\"\\t\",eol=\"\\n\")\n",
    "\n",
    "cluster<-Idents(object=P23F)\n",
    "cluster<-as.matrix(cluster)\n",
    "cluster[,1]<-as.character(cluster[,1])\n",
    "cluster[,0]<-as.character(cluster[,0])\n",
    "cluster<-data.frame(\"x\"=rownames(cluster),cluster)\n",
    "write.table(cluster,file=\"/media/garret/New Volume/scRNAseq_data/Koichi/V3_analysis/MPOA/MPOA_P23F/gene3000_30/doublet/Cluster.txt\",row.names=FALSE,col.names=c(\"\",\"x\"),sep=\"\\t\",eol=\"\\n\")\n",
    "\n",
    "cluster<-Idents(object=OVX)\n",
    "cluster<-as.matrix(cluster)\n",
    "cluster[,1]<-as.character(cluster[,1])\n",
    "cluster[,0]<-as.character(cluster[,0])\n",
    "cluster<-data.frame(\"x\"=rownames(cluster),cluster)\n",
    "write.table(cluster,file=\"/media/garret/New Volume/scRNAseq_data/Koichi/V3_analysis/MPOA/MPOA_OVX/gene3000_30/doublet/Cluster.txt\",row.names=FALSE,col.names=c(\"\",\"x\"),sep=\"\\t\",eol=\"\\n\")"
   ]
  },
  {
   "cell_type": "code",
   "execution_count": null,
   "metadata": {},
   "outputs": [],
   "source": [
    "library(\"DoubletDecon\")\n",
    "location=\"/media/garret/New Volume/scRNAseq_data/Koichi/V3_analysis/MPOA/MPOA_AM/gene3000_30/doublet/\" #Update as needed \n",
    "expressionFile=paste0(location, \"counts.txt\")\n",
    "genesFile=paste0(location, \"Top50Genes.txt\")\n",
    "clustersFile=paste0(location, \"Cluster.txt\")\n",
    "\n",
    "newFiles=Seurat_Pre_Process(expressionFile, genesFile, clustersFile)\n",
    "\n",
    "results=Main_Doublet_Decon(rawDataFile=newFiles$newExpressionFile, \n",
    "                           groupsFile=newFiles$newGroupsFile, \n",
    "                           filename=\"cntl\", \n",
    "                           location=location,\n",
    "                           fullDataFile=NULL, \n",
    "                           removeCC=FALSE, \n",
    "                           species=\"mmu\", \n",
    "                           rhop=1.1, \n",
    "                           write=TRUE, \n",
    "                           PMF=TRUE, \n",
    "                           useFull=FALSE, \n",
    "                           heatmap=FALSE,\n",
    "                           centroids=TRUE,\n",
    "                           num_doubs=100, \n",
    "                           only50=TRUE,\n",
    "                           min_uniq=4)"
   ]
  }
 ],
 "metadata": {
  "kernelspec": {
   "display_name": "R",
   "language": "R",
   "name": "ir"
  },
  "language_info": {
   "codemirror_mode": "r",
   "file_extension": ".r",
   "mimetype": "text/x-r-source",
   "name": "R",
   "pygments_lexer": "r",
   "version": "3.6.3"
  }
 },
 "nbformat": 4,
 "nbformat_minor": 2
}
