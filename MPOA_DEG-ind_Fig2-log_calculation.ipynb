{
 "cells": [
  {
   "cell_type": "markdown",
   "metadata": {},
   "source": [
    "# 8 sample analysis- neurons\n"
   ]
  },
  {
   "cell_type": "markdown",
   "metadata": {},
   "source": [
    "#  <font color='blue'>Contents</font> \n",
    "1. Install package, load libraries and data\n",
    "2."
   ]
  },
  {
   "cell_type": "markdown",
   "metadata": {
    "scrolled": true
   },
   "source": [
    ".libPaths()"
   ]
  },
  {
   "cell_type": "code",
   "execution_count": 1,
   "metadata": {
    "collapsed": true
   },
   "outputs": [
    {
     "name": "stderr",
     "output_type": "stream",
     "text": [
      "Attaching SeuratObject\n",
      "\n",
      "\n",
      "Attaching package: ‘dplyr’\n",
      "\n",
      "\n",
      "The following objects are masked from ‘package:stats’:\n",
      "\n",
      "    filter, lag\n",
      "\n",
      "\n",
      "The following objects are masked from ‘package:base’:\n",
      "\n",
      "    intersect, setdiff, setequal, union\n",
      "\n",
      "\n"
     ]
    },
    {
     "data": {
      "text/html": [
       "<style> .container { width:95% !important; } </style>"
      ]
     },
     "metadata": {},
     "output_type": "display_data"
    },
    {
     "ename": "ERROR",
     "evalue": "Error in library(\"xlsx\"): there is no package called ‘xlsx’\n",
     "output_type": "error",
     "traceback": [
      "Error in library(\"xlsx\"): there is no package called ‘xlsx’\nTraceback:\n",
      "1. library(\"xlsx\")"
     ]
    }
   ],
   "source": [
    "library(Seurat)\n",
    "library(dplyr)\n",
    "library(magrittr)\n",
    "IRdisplay::display_html(\"<style> .container { width:95% !important; } </style>\")\n",
    "library(\"xlsx\")\n",
    "#library(mgsa)"
   ]
  },
  {
   "cell_type": "code",
   "execution_count": 2,
   "metadata": {},
   "outputs": [],
   "source": [
    "MPOA.integrated<-readRDS(file = \"/media/garret/New Volume/scRNAseq_data/Koichi/V3_analysis/MPOA/MPOA_integrated/log/Neurons/MPOA.integrated.rds\")\n",
    "P23M<-readRDS(file =\"/media/garret/New Volume/scRNAseq_data/Koichi/V3_analysis/MPOA/MPOA_integrated/log/Neurons/P23M.rds\")\n",
    "P35M<-readRDS(file = \"/media/garret/New Volume/scRNAseq_data/Koichi/V3_analysis/MPOA/MPOA_integrated/log/Neurons/P35M.rds\")\n",
    "AM<-readRDS(file = \"/media/garret/New Volume/scRNAseq_data/Koichi/V3_analysis/MPOA/MPOA_integrated/log/Neurons/AM.rds\")\n",
    "Cast<-readRDS(file = \"/media/garret/New Volume/scRNAseq_data/Koichi/V3_analysis/MPOA/MPOA_integrated/log/Neurons/Cast.rds\")\n",
    "P23F<-readRDS(file = \"/media/garret/New Volume/scRNAseq_data/Koichi/V3_analysis/MPOA/MPOA_integrated/log/Neurons/P23F.rds\")\n",
    "P35F<-readRDS(file = \"/media/garret/New Volume/scRNAseq_data/Koichi/V3_analysis/MPOA/MPOA_integrated/log/Neurons/P35F.rds\")\n",
    "AF<-readRDS(file = \"/media/garret/New Volume/scRNAseq_data/Koichi/V3_analysis/MPOA/MPOA_integrated/log/Neurons/AF.rds\")\n",
    "OVX<-readRDS(file = \"/media/garret/New Volume/scRNAseq_data/Koichi/V3_analysis/MPOA/MPOA_integrated/log/Neurons/OVX.rds\")"
   ]
  },
  {
   "cell_type": "markdown",
   "metadata": {},
   "source": [
    "# assgin clusters to cell types"
   ]
  },
  {
   "cell_type": "code",
   "execution_count": 3,
   "metadata": {},
   "outputs": [],
   "source": [
    "new.ident <- c(\"Mix1\",\"Vgat1\",\"Vglu1\",\"Vgat2\",\"Vgat3\",\"Vgat4\",\"Mix2\",\"Vglu2\",\"Vgat5\",\"Vglu3\",\"Vglu4\",\"Vgat6\",\"Vgat7\",\"Vgat8\",\"Vglu5\",\"Vglu6\",\"Vgat9\",\"Vgat10\",\"Vgat11\",\"Vglu7\",\"Vgat12\",\"Vgat13\",\"Vgat14\",\"Vgat15\",\"Vglu8\",\"Vglu9\",\"Vgat16\",\"Vglu10\",\"Vgat17\",\"Vgat18\",\"Vgat19\",\"Vglu11\",\"Vglu12\",\"Ambiguous1\",\"Mix3\",\"Vgat20\")\n",
    "names(x = new.ident) <- levels(x =MPOA.integrated)\n",
    "MPOA.integrated<- RenameIdents(object =MPOA.integrated, new.ident)"
   ]
  },
  {
   "cell_type": "markdown",
   "metadata": {},
   "source": [
    "# Cell type analysis in each condition"
   ]
  },
  {
   "cell_type": "code",
   "execution_count": 4,
   "metadata": {},
   "outputs": [],
   "source": [
    "#identifying cluster barcodes in each condition\n",
    "# exp. Oligo_1_barcode_ctrl gives all barcodes in it\n",
    "for (i in 1:length(new.ident)){\n",
    "assign(paste(new.ident[i],\"_barcode\",sep=\"\"),colnames(MPOA.integrated@assays$RNA@data[,which(Idents(object=MPOA.integrated) %in% new.ident[i])]))# this gives all barcodes in cluster\n",
    "assign(paste(new.ident[i],\"_barcode_P23M\",sep=\"\"),intersect(colnames(P23M@assays$RNA@data),eval(parse(text = paste(new.ident[i],\"_barcode\",sep=\"\")))))\n",
    "assign(paste(new.ident[i],\"_barcode_P35M\",sep=\"\"),intersect(colnames(P35M@assays$RNA@data),eval(parse(text = paste(new.ident[i],\"_barcode\",sep=\"\")))))\n",
    "assign(paste(new.ident[i],\"_barcode_AM\",sep=\"\"),intersect(colnames(AM@assays$RNA@data),eval(parse(text = paste(new.ident[i],\"_barcode\",sep=\"\")))))\n",
    "assign(paste(new.ident[i],\"_barcode_Cast\",sep=\"\"),intersect(colnames(Cast@assays$RNA@data),eval(parse(text = paste(new.ident[i],\"_barcode\",sep=\"\")))))\n",
    "assign(paste(new.ident[i],\"_barcode_P23F\",sep=\"\"),intersect(colnames(P23F@assays$RNA@data),eval(parse(text = paste(new.ident[i],\"_barcode\",sep=\"\")))))\n",
    "assign(paste(new.ident[i],\"_barcode_P35F\",sep=\"\"),intersect(colnames(P35F@assays$RNA@data),eval(parse(text = paste(new.ident[i],\"_barcode\",sep=\"\")))))\n",
    "assign(paste(new.ident[i],\"_barcode_AF\",sep=\"\"),intersect(colnames(AF@assays$RNA@data),eval(parse(text = paste(new.ident[i],\"_barcode\",sep=\"\")))))\n",
    "assign(paste(new.ident[i],\"_barcode_OVX\",sep=\"\"),intersect(colnames(OVX@assays$RNA@data),eval(parse(text = paste(new.ident[i],\"_barcode\",sep=\"\")))))\n",
    "}"
   ]
  },
  {
   "cell_type": "markdown",
   "metadata": {},
   "source": [
    "# DEG between ages (conditions)\n"
   ]
  },
  {
   "cell_type": "code",
   "execution_count": 5,
   "metadata": {},
   "outputs": [],
   "source": [
    "MPOA.integrated@meta.data$celltype.stim <- paste0(Idents(MPOA.integrated), \"_\", MPOA.integrated@meta.data$stim)\n",
    "MPOA.integrated[[\"celltype\"]] <- Idents(object = MPOA.integrated)\n",
    "Idents(MPOA.integrated = MPOA.integrated) <- MPOA.integrated@meta.data$celltype.stim\n"
   ]
  },
  {
   "cell_type": "code",
   "execution_count": 6,
   "metadata": {},
   "outputs": [],
   "source": [
    "Cell_type<-c(\"Mix1\",\"Vgat1\",\"Vglu1\",\"Vgat2\",\"Vgat3\",\"Vgat4\",\"Mix2\",\"Vglu2\",\"Vgat5\",\"Vglu3\",\"Vglu4\",\"Vgat6\",\"Vgat7\",\"Vgat8\",\"Vglu5\",\"Vglu6\",\"Vgat9\",\"Vgat10\",\"Vgat11\",\"Vglu7\",\"Vgat12\",\"Vgat13\",\"Vgat14\",\"Vgat15\",\"Vglu8\",\"Vglu9\",\"Vgat16\",\"Vglu10\",\"Vgat17\",\"Vgat18\",\"Vgat19\",\"Vglu11\",\"Vglu12\",\"Ambiguous1\",\"Mix3\",\"Vgat20\")"
   ]
  },
  {
   "cell_type": "code",
   "execution_count": 9,
   "metadata": {},
   "outputs": [],
   "source": [
    "Cell_type<-c(\"Mix1\",\"Vgat1\",\"Vglu1\",\"Vgat2\",\"Vgat3\",\"Vgat4\",\"Mix2\",\"Vglu2\",\"Vgat5\",\"Vglu3\",\"Vglu4\",\"Vgat6\",\"Vgat7\",\"Vgat8\",\"Vglu5\",\"Vglu6\",\"Vgat9\",\"Vgat10\",\"Vgat11\",\"Vglu7\",\"Vgat12\",\"Vgat13\",\"Vgat14\",\"Vgat15\",\"Vglu8\",\"Vglu9\",\"Vgat16\",\"Vglu10\",\"Vgat17\",\"Vgat18\",\"Vgat19\",\"Vglu11\",\"Vglu12\",\"Mix3\",\"Vgat20\")"
   ]
  },
  {
   "cell_type": "code",
   "execution_count": 10,
   "metadata": {},
   "outputs": [
    {
     "data": {
      "text/html": [
       "35"
      ],
      "text/latex": [
       "35"
      ],
      "text/markdown": [
       "35"
      ],
      "text/plain": [
       "[1] 35"
      ]
     },
     "metadata": {},
     "output_type": "display_data"
    }
   ],
   "source": [
    "length(Cell_type)"
   ]
  },
  {
   "cell_type": "code",
   "execution_count": 8,
   "metadata": {},
   "outputs": [],
   "source": [
    "Cell_type<-c(\"Vgat1\",\"Vgat2\",\"Vgat3\",\"Vgat4\",\"Vgat5\",\"Vgat6\",\"Vgat7\",\"Vgat8\",\"Vgat9\",\"Vgat10\",\"Vgat11\",\"Vgat12\",\"Vgat13\",\"Vgat14\",\"Vgat15\",\"Vgat16\",\"Vgat17\",\"Vgat18\",\"Vgat19\",\"Vgat20\")"
   ]
  },
  {
   "cell_type": "markdown",
   "metadata": {},
   "source": [
    "log\n"
   ]
  },
  {
   "cell_type": "code",
   "execution_count": 11,
   "metadata": {},
   "outputs": [],
   "source": [
    "DefaultAssay(MPOA.integrated) <- \"RNA\""
   ]
  },
  {
   "cell_type": "code",
   "execution_count": 12,
   "metadata": {
    "collapsed": true
   },
   "outputs": [
    {
     "name": "stderr",
     "output_type": "stream",
     "text": [
      "Warning message in max(nchar(aux)):\n",
      "“no non-missing arguments to max; returning -Inf”\n",
      "Warning message in max(nchar(aux)):\n",
      "“no non-missing arguments to max; returning -Inf”\n"
     ]
    }
   ],
   "source": [
    "#HB correcton\n",
    "for (i in 1:length(Cell_type)){\n",
    "    one.markers <- FindMarkers(MPOA.integrated, , ident.1 = paste(Cell_type[i],\"_P23M\",sep=\"\"), ident.2 =paste(Cell_type[i],\"_Cast\",sep=\"\"), grouping.var = \"stim\",print.bar = FALSE,logfc.threshold = 0,min.pct = 0,min.cells.gene = 3, min.cells.group = 1)\n",
    "\n",
    "one.markers$p_val_adjust<-one.markers$p_val*(dim(one.markers)[1]:1)\n",
    "sort_marker<-one.markers[order(-one.markers[\"avg_logFC\"]),]\n",
    "write.xlsx2(subset(sort_marker,avg_logFC>0 & p_val_adjust<0.05 & pct.1>0.1),file=(paste(\"/media/garret/New Volume/scRNAseq_data/Koichi/V3_analysis/MPOA/MPOA_integrated/log/Neurons/DEG/Ind/P23M_over_Cast/\",Cell_type[i],\"_gene_adjust.xlsx\",sep=\"\")))}\n",
    "#write.xlsx2(subset(sort_marker,avg_logFC<0 & p_val_adjust<0.05 & pct.2>0.1),file=(paste(\"/media/garret/New Volume/scRNAseq_data/Koichi/V3_analysis/MPOA/MPOA_integrated/log/Neurons/DEG/Ind/AM_over_AF/\",Cell_type[i],\"_gene_adjust_n.xlsx\",sep=\"\")))}"
   ]
  },
  {
   "cell_type": "code",
   "execution_count": 13,
   "metadata": {
    "collapsed": true
   },
   "outputs": [
    {
     "name": "stderr",
     "output_type": "stream",
     "text": [
      "Warning message in max(nchar(aux)):\n",
      "“no non-missing arguments to max; returning -Inf”\n",
      "Warning message in max(nchar(aux)):\n",
      "“no non-missing arguments to max; returning -Inf”\n",
      "Warning message in max(nchar(aux)):\n",
      "“no non-missing arguments to max; returning -Inf”\n",
      "Warning message in max(nchar(aux)):\n",
      "“no non-missing arguments to max; returning -Inf”\n",
      "Warning message in max(nchar(aux)):\n",
      "“no non-missing arguments to max; returning -Inf”\n",
      "Warning message in max(nchar(aux)):\n",
      "“no non-missing arguments to max; returning -Inf”\n",
      "Warning message in max(nchar(aux)):\n",
      "“no non-missing arguments to max; returning -Inf”\n",
      "Warning message in max(nchar(aux)):\n",
      "“no non-missing arguments to max; returning -Inf”\n",
      "Warning message in max(nchar(aux)):\n",
      "“no non-missing arguments to max; returning -Inf”\n",
      "Warning message in max(nchar(aux)):\n",
      "“no non-missing arguments to max; returning -Inf”\n",
      "Warning message in max(nchar(aux)):\n",
      "“no non-missing arguments to max; returning -Inf”\n"
     ]
    }
   ],
   "source": [
    "#HB correcton\n",
    "for (i in 1:length(Cell_type)){\n",
    "    one.markers <- FindMarkers(MPOA.integrated, , ident.1 = paste(Cell_type[i],\"_P23F\",sep=\"\"), ident.2 =paste(Cell_type[i],\"_OVX\",sep=\"\"), grouping.var = \"stim\",print.bar = FALSE,logfc.threshold = 0,min.pct = 0,min.cells.gene = 3, min.cells.group = 1)\n",
    "\n",
    "one.markers$p_val_adjust<-one.markers$p_val*(dim(one.markers)[1]:1)\n",
    "sort_marker<-one.markers[order(-one.markers[\"avg_logFC\"]),]\n",
    "write.xlsx2(subset(sort_marker,avg_logFC>0 & p_val_adjust<0.05 & pct.1>0.1),file=(paste(\"/media/garret/New Volume/scRNAseq_data/Koichi/V3_analysis/MPOA/MPOA_integrated/log/Neurons/DEG/Ind/P23F_over_OVX/\",Cell_type[i],\"_gene_adjust.xlsx\",sep=\"\")))}"
   ]
  },
  {
   "cell_type": "code",
   "execution_count": null,
   "metadata": {},
   "outputs": [],
   "source": []
  }
 ],
 "metadata": {
  "kernelspec": {
   "display_name": "R",
   "language": "R",
   "name": "ir"
  },
  "language_info": {
   "codemirror_mode": "r",
   "file_extension": ".r",
   "mimetype": "text/x-r-source",
   "name": "R",
   "pygments_lexer": "r",
   "version": "3.6.3"
  }
 },
 "nbformat": 4,
 "nbformat_minor": 2
}
